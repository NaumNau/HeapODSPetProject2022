{
  "cells": [
    {
      "cell_type": "code",
      "execution_count": null,
      "metadata": {
        "id": "fjaGYwAOnvMr"
      },
      "outputs": [],
      "source": [
        "import os\n",
        "import matplotlib.pyplot as plt\n",
        "%matplotlib inline\n",
        "from tensorflow.keras.models import Model\n",
        "import pandas as pd\n",
        "import numpy as np\n",
        "import cv2\n",
        "import keras\n",
        "from keras.layers import Conv2D, MaxPooling2D, BatchNormalization, GlobalMaxPooling2D\n",
        "from keras.layers import Activation, Dropout, Flatten, Dense\n",
        "from glob import glob\n",
        "from keras.callbacks import EarlyStopping, ModelCheckpoint, ReduceLROnPlateau, TensorBoard"
      ]
    },
    {
      "cell_type": "code",
      "execution_count": null,
      "metadata": {
        "colab": {
          "base_uri": "https://localhost:8080/"
        },
        "id": "Q7kcvK5Qn3Gh",
        "outputId": "368c8b65-93d9-455a-dcd7-1c41ecac7821"
      },
      "outputs": [
        {
          "output_type": "stream",
          "name": "stdout",
          "text": [
            "Drive already mounted at /content/drive; to attempt to forcibly remount, call drive.mount(\"/content/drive\", force_remount=True).\n"
          ]
        }
      ],
      "source": [
        "from google.colab import drive\n",
        "drive.mount('/content/drive')"
      ]
    },
    {
      "cell_type": "code",
      "execution_count": null,
      "metadata": {
        "colab": {
          "base_uri": "https://localhost:8080/"
        },
        "id": "tg-fWL-toHfr",
        "outputId": "8d22ee01-325c-456c-9c7a-1a8c9362bfdc"
      },
      "outputs": [
        {
          "output_type": "stream",
          "name": "stdout",
          "text": [
            "ANTON\t\t   colab_MISHA.ipynb  MISHA_heap    NIKITA.ipynb\n",
            "ANTON_heap\t   hard\t\t      MISHA_videos  TimeDistributed.ipynb\n",
            "ANTON_videos\t   main\t\t      model_save    Untitled0.ipynb\n",
            "colab_ANTON.ipynb  MISHA\t      NIKITA\n"
          ]
        }
      ],
      "source": [
        "!cd drive/MyDrive/CRUPA; ls"
      ]
    },
    {
      "cell_type": "code",
      "execution_count": null,
      "metadata": {
        "id": "j5_YdnahoXbd"
      },
      "outputs": [],
      "source": [
        "main_dir = 'drive/MyDrive/CRUPA/MISHA_heap_v2/'\n",
        "main_dir_Anton = 'drive/MyDrive/CRUPA/ANTON_heap/'\n",
        "main_dir_Mish = 'drive/MyDrive/CRUPA/MISHA_heap_v2/'"
      ]
    },
    {
      "cell_type": "code",
      "execution_count": null,
      "metadata": {
        "id": "v1w1F-UGn3MT"
      },
      "outputs": [],
      "source": [
        "\n",
        "img_shape = (224, 224)\n",
        "images_mish = sorted(os.listdir(main_dir))\n",
        "images_anton = sorted(os.listdir(main_dir_Anton))\n",
        "#images_misha = os.listdir(main_dir_Mish)\n",
        "images = images_mish + images_anton \n",
        "\n",
        "images_info_df = pd.DataFrame(columns=['image_name', 'mass', 'food_type'])\n",
        "for ind, img in enumerate(images):\n",
        "    items = img.split('_')\n",
        "    file = img.split('_')[2]\n",
        "    #print(file[0:2])\n",
        "    if file[0:2] == 'mv':\n",
        "      images_info_df.loc[ind] = [main_dir + img, int(items[0]), items[1]]\n",
        "    elif file[0:2] == 'av':\n",
        "      images_info_df.loc[ind] = [main_dir_Anton + img, int(items[0]), items[1]]\n",
        "    \n",
        "#images_info_df['image_name'] = sorted(images_info_df['image_name'])\n",
        "mass_list = list(images_info_df['mass'])  \n",
        "mass_list = np.array(mass_list)\n"
      ]
    },
    {
      "cell_type": "code",
      "execution_count": null,
      "metadata": {
        "colab": {
          "base_uri": "https://localhost:8080/",
          "height": 423
        },
        "id": "cwVwWYMfpe-y",
        "outputId": "ca223ea3-4593-455a-efc5-7f7e87aa605a"
      },
      "outputs": [
        {
          "output_type": "execute_result",
          "data": {
            "text/html": [
              "\n",
              "  <div id=\"df-362ff709-6148-471a-92a4-b383fef497a4\">\n",
              "    <div class=\"colab-df-container\">\n",
              "      <div>\n",
              "<style scoped>\n",
              "    .dataframe tbody tr th:only-of-type {\n",
              "        vertical-align: middle;\n",
              "    }\n",
              "\n",
              "    .dataframe tbody tr th {\n",
              "        vertical-align: top;\n",
              "    }\n",
              "\n",
              "    .dataframe thead th {\n",
              "        text-align: right;\n",
              "    }\n",
              "</style>\n",
              "<table border=\"1\" class=\"dataframe\">\n",
              "  <thead>\n",
              "    <tr style=\"text-align: right;\">\n",
              "      <th></th>\n",
              "      <th>image_name</th>\n",
              "      <th>mass</th>\n",
              "      <th>food_type</th>\n",
              "    </tr>\n",
              "  </thead>\n",
              "  <tbody>\n",
              "    <tr>\n",
              "      <th>0</th>\n",
              "      <td>drive/MyDrive/CRUPA/MISHA_heap_v2/100_grechka_...</td>\n",
              "      <td>100</td>\n",
              "      <td>grechka</td>\n",
              "    </tr>\n",
              "    <tr>\n",
              "      <th>1</th>\n",
              "      <td>drive/MyDrive/CRUPA/MISHA_heap_v2/100_grechka_...</td>\n",
              "      <td>100</td>\n",
              "      <td>grechka</td>\n",
              "    </tr>\n",
              "    <tr>\n",
              "      <th>2</th>\n",
              "      <td>drive/MyDrive/CRUPA/MISHA_heap_v2/100_grechka_...</td>\n",
              "      <td>100</td>\n",
              "      <td>grechka</td>\n",
              "    </tr>\n",
              "    <tr>\n",
              "      <th>3</th>\n",
              "      <td>drive/MyDrive/CRUPA/MISHA_heap_v2/100_grechka_...</td>\n",
              "      <td>100</td>\n",
              "      <td>grechka</td>\n",
              "    </tr>\n",
              "    <tr>\n",
              "      <th>4</th>\n",
              "      <td>drive/MyDrive/CRUPA/MISHA_heap_v2/100_grechka_...</td>\n",
              "      <td>100</td>\n",
              "      <td>grechka</td>\n",
              "    </tr>\n",
              "    <tr>\n",
              "      <th>...</th>\n",
              "      <td>...</td>\n",
              "      <td>...</td>\n",
              "      <td>...</td>\n",
              "    </tr>\n",
              "    <tr>\n",
              "      <th>1365</th>\n",
              "      <td>drive/MyDrive/CRUPA/ANTON_heap/90_grechka_av2_...</td>\n",
              "      <td>90</td>\n",
              "      <td>grechka</td>\n",
              "    </tr>\n",
              "    <tr>\n",
              "      <th>1366</th>\n",
              "      <td>drive/MyDrive/CRUPA/ANTON_heap/90_grechka_av2_...</td>\n",
              "      <td>90</td>\n",
              "      <td>grechka</td>\n",
              "    </tr>\n",
              "    <tr>\n",
              "      <th>1367</th>\n",
              "      <td>drive/MyDrive/CRUPA/ANTON_heap/90_grechka_av2_...</td>\n",
              "      <td>90</td>\n",
              "      <td>grechka</td>\n",
              "    </tr>\n",
              "    <tr>\n",
              "      <th>1368</th>\n",
              "      <td>drive/MyDrive/CRUPA/ANTON_heap/90_grechka_av2_...</td>\n",
              "      <td>90</td>\n",
              "      <td>grechka</td>\n",
              "    </tr>\n",
              "    <tr>\n",
              "      <th>1369</th>\n",
              "      <td>drive/MyDrive/CRUPA/ANTON_heap/90_grechka_av2_...</td>\n",
              "      <td>90</td>\n",
              "      <td>grechka</td>\n",
              "    </tr>\n",
              "  </tbody>\n",
              "</table>\n",
              "<p>1370 rows × 3 columns</p>\n",
              "</div>\n",
              "      <button class=\"colab-df-convert\" onclick=\"convertToInteractive('df-362ff709-6148-471a-92a4-b383fef497a4')\"\n",
              "              title=\"Convert this dataframe to an interactive table.\"\n",
              "              style=\"display:none;\">\n",
              "        \n",
              "  <svg xmlns=\"http://www.w3.org/2000/svg\" height=\"24px\"viewBox=\"0 0 24 24\"\n",
              "       width=\"24px\">\n",
              "    <path d=\"M0 0h24v24H0V0z\" fill=\"none\"/>\n",
              "    <path d=\"M18.56 5.44l.94 2.06.94-2.06 2.06-.94-2.06-.94-.94-2.06-.94 2.06-2.06.94zm-11 1L8.5 8.5l.94-2.06 2.06-.94-2.06-.94L8.5 2.5l-.94 2.06-2.06.94zm10 10l.94 2.06.94-2.06 2.06-.94-2.06-.94-.94-2.06-.94 2.06-2.06.94z\"/><path d=\"M17.41 7.96l-1.37-1.37c-.4-.4-.92-.59-1.43-.59-.52 0-1.04.2-1.43.59L10.3 9.45l-7.72 7.72c-.78.78-.78 2.05 0 2.83L4 21.41c.39.39.9.59 1.41.59.51 0 1.02-.2 1.41-.59l7.78-7.78 2.81-2.81c.8-.78.8-2.07 0-2.86zM5.41 20L4 18.59l7.72-7.72 1.47 1.35L5.41 20z\"/>\n",
              "  </svg>\n",
              "      </button>\n",
              "      \n",
              "  <style>\n",
              "    .colab-df-container {\n",
              "      display:flex;\n",
              "      flex-wrap:wrap;\n",
              "      gap: 12px;\n",
              "    }\n",
              "\n",
              "    .colab-df-convert {\n",
              "      background-color: #E8F0FE;\n",
              "      border: none;\n",
              "      border-radius: 50%;\n",
              "      cursor: pointer;\n",
              "      display: none;\n",
              "      fill: #1967D2;\n",
              "      height: 32px;\n",
              "      padding: 0 0 0 0;\n",
              "      width: 32px;\n",
              "    }\n",
              "\n",
              "    .colab-df-convert:hover {\n",
              "      background-color: #E2EBFA;\n",
              "      box-shadow: 0px 1px 2px rgba(60, 64, 67, 0.3), 0px 1px 3px 1px rgba(60, 64, 67, 0.15);\n",
              "      fill: #174EA6;\n",
              "    }\n",
              "\n",
              "    [theme=dark] .colab-df-convert {\n",
              "      background-color: #3B4455;\n",
              "      fill: #D2E3FC;\n",
              "    }\n",
              "\n",
              "    [theme=dark] .colab-df-convert:hover {\n",
              "      background-color: #434B5C;\n",
              "      box-shadow: 0px 1px 3px 1px rgba(0, 0, 0, 0.15);\n",
              "      filter: drop-shadow(0px 1px 2px rgba(0, 0, 0, 0.3));\n",
              "      fill: #FFFFFF;\n",
              "    }\n",
              "  </style>\n",
              "\n",
              "      <script>\n",
              "        const buttonEl =\n",
              "          document.querySelector('#df-362ff709-6148-471a-92a4-b383fef497a4 button.colab-df-convert');\n",
              "        buttonEl.style.display =\n",
              "          google.colab.kernel.accessAllowed ? 'block' : 'none';\n",
              "\n",
              "        async function convertToInteractive(key) {\n",
              "          const element = document.querySelector('#df-362ff709-6148-471a-92a4-b383fef497a4');\n",
              "          const dataTable =\n",
              "            await google.colab.kernel.invokeFunction('convertToInteractive',\n",
              "                                                     [key], {});\n",
              "          if (!dataTable) return;\n",
              "\n",
              "          const docLinkHtml = 'Like what you see? Visit the ' +\n",
              "            '<a target=\"_blank\" href=https://colab.research.google.com/notebooks/data_table.ipynb>data table notebook</a>'\n",
              "            + ' to learn more about interactive tables.';\n",
              "          element.innerHTML = '';\n",
              "          dataTable['output_type'] = 'display_data';\n",
              "          await google.colab.output.renderOutput(dataTable, element);\n",
              "          const docLink = document.createElement('div');\n",
              "          docLink.innerHTML = docLinkHtml;\n",
              "          element.appendChild(docLink);\n",
              "        }\n",
              "      </script>\n",
              "    </div>\n",
              "  </div>\n",
              "  "
            ],
            "text/plain": [
              "                                             image_name mass food_type\n",
              "0     drive/MyDrive/CRUPA/MISHA_heap_v2/100_grechka_...  100   grechka\n",
              "1     drive/MyDrive/CRUPA/MISHA_heap_v2/100_grechka_...  100   grechka\n",
              "2     drive/MyDrive/CRUPA/MISHA_heap_v2/100_grechka_...  100   grechka\n",
              "3     drive/MyDrive/CRUPA/MISHA_heap_v2/100_grechka_...  100   grechka\n",
              "4     drive/MyDrive/CRUPA/MISHA_heap_v2/100_grechka_...  100   grechka\n",
              "...                                                 ...  ...       ...\n",
              "1365  drive/MyDrive/CRUPA/ANTON_heap/90_grechka_av2_...   90   grechka\n",
              "1366  drive/MyDrive/CRUPA/ANTON_heap/90_grechka_av2_...   90   grechka\n",
              "1367  drive/MyDrive/CRUPA/ANTON_heap/90_grechka_av2_...   90   grechka\n",
              "1368  drive/MyDrive/CRUPA/ANTON_heap/90_grechka_av2_...   90   grechka\n",
              "1369  drive/MyDrive/CRUPA/ANTON_heap/90_grechka_av2_...   90   grechka\n",
              "\n",
              "[1370 rows x 3 columns]"
            ]
          },
          "metadata": {},
          "execution_count": 59
        }
      ],
      "source": [
        "images_info_df[0:10000]"
      ]
    },
    {
      "cell_type": "code",
      "execution_count": null,
      "metadata": {
        "id": "Qq2Rs00WEtAk"
      },
      "outputs": [],
      "source": [
        "# images_in_matrix_form = []  # массив с картинками в матричном виде\n",
        "# for img_name in images_info_df['image_name']:\n",
        "#     img = cv2.imread(img_name)\n",
        "#     img = cv2.cvtColor(img, cv2.COLOR_BGR2RGB)\n",
        "#     img = cv2.resize(img, img_shape)\n",
        "#     images_in_matrix_form.append(np.asarray(img))\n",
        "# images_in_matrix_form = np.array(images_in_matrix_form) "
      ]
    },
    {
      "cell_type": "markdown",
      "metadata": {
        "id": "SlY6zBAB1Lzi"
      },
      "source": [
        "GENERATOR DATA"
      ]
    },
    {
      "cell_type": "code",
      "source": [
        "images_list = []\n",
        "images_batch = []\n",
        "mass_list = []\n",
        "mass_batch = []\n",
        "j = 0\n",
        "for i, file in enumerate(images_info_df['image_name']):\n",
        "  #print(i,file)\n",
        "  if j < 5:\n",
        "    j += 1\n",
        "    #img = cv2.imread(file)\n",
        "    #img = cv2.cvtColor(img, cv2.COLOR_BGR2RGB)\n",
        "    #img = cv2.resize(img, img_shape)\n",
        "    images_batch.append(images_info_df['image_name'][i])\n",
        "    mass_batch.append(images_info_df['mass'][i])\n",
        "    \n",
        "  else:\n",
        "    j = 0 \n",
        "    #print(images_batch)\n",
        "    images_list.append(images_batch)\n",
        "    mass_list.append(int(images_info_df['mass'][i])) \n",
        "    images_batch = [] \n",
        "    mass_batch = []\n",
        "\n",
        "\n",
        "images_list = np.array(images_list)\n",
        "mass_list = np.array(mass_list)    \n",
        "print(images_list)\n",
        "print(mass_list)"
      ],
      "metadata": {
        "colab": {
          "base_uri": "https://localhost:8080/"
        },
        "id": "W4VFf0ExHeKD",
        "outputId": "2c2f9310-dff3-4dac-c9d0-d63b459dd7d4"
      },
      "execution_count": null,
      "outputs": [
        {
          "output_type": "stream",
          "name": "stdout",
          "text": [
            "[['drive/MyDrive/CRUPA/MISHA_heap_v2/100_grechka_mv1_ver0_frame_0.jpg'\n",
            "  'drive/MyDrive/CRUPA/MISHA_heap_v2/100_grechka_mv1_ver0_frame_1.jpg'\n",
            "  'drive/MyDrive/CRUPA/MISHA_heap_v2/100_grechka_mv1_ver0_frame_2.jpg'\n",
            "  'drive/MyDrive/CRUPA/MISHA_heap_v2/100_grechka_mv1_ver0_frame_3.jpg'\n",
            "  'drive/MyDrive/CRUPA/MISHA_heap_v2/100_grechka_mv1_ver0_frame_4.jpg']\n",
            " ['drive/MyDrive/CRUPA/MISHA_heap_v2/100_grechka_mv1_ver1_frame_0.jpg'\n",
            "  'drive/MyDrive/CRUPA/MISHA_heap_v2/100_grechka_mv1_ver1_frame_1.jpg'\n",
            "  'drive/MyDrive/CRUPA/MISHA_heap_v2/100_grechka_mv1_ver1_frame_2.jpg'\n",
            "  'drive/MyDrive/CRUPA/MISHA_heap_v2/100_grechka_mv1_ver1_frame_3.jpg'\n",
            "  'drive/MyDrive/CRUPA/MISHA_heap_v2/100_grechka_mv1_ver1_frame_4.jpg']\n",
            " ['drive/MyDrive/CRUPA/MISHA_heap_v2/100_grechka_mv1_ver2_frame_0.jpg'\n",
            "  'drive/MyDrive/CRUPA/MISHA_heap_v2/100_grechka_mv1_ver2_frame_1.jpg'\n",
            "  'drive/MyDrive/CRUPA/MISHA_heap_v2/100_grechka_mv1_ver2_frame_2.jpg'\n",
            "  'drive/MyDrive/CRUPA/MISHA_heap_v2/100_grechka_mv1_ver2_frame_3.jpg'\n",
            "  'drive/MyDrive/CRUPA/MISHA_heap_v2/100_grechka_mv1_ver2_frame_4.jpg']\n",
            " ...\n",
            " ['drive/MyDrive/CRUPA/ANTON_heap/80_grechka_av1_frame_0.jpg'\n",
            "  'drive/MyDrive/CRUPA/ANTON_heap/80_grechka_av1_frame_1.jpg'\n",
            "  'drive/MyDrive/CRUPA/ANTON_heap/80_grechka_av1_frame_2.jpg'\n",
            "  'drive/MyDrive/CRUPA/ANTON_heap/80_grechka_av1_frame_3.jpg'\n",
            "  'drive/MyDrive/CRUPA/ANTON_heap/80_grechka_av1_frame_4.jpg']\n",
            " ['drive/MyDrive/CRUPA/ANTON_heap/80_grechka_av2_frame_1.jpg'\n",
            "  'drive/MyDrive/CRUPA/ANTON_heap/80_grechka_av2_frame_2.jpg'\n",
            "  'drive/MyDrive/CRUPA/ANTON_heap/80_grechka_av2_frame_3.jpg'\n",
            "  'drive/MyDrive/CRUPA/ANTON_heap/80_grechka_av2_frame_4.jpg'\n",
            "  'drive/MyDrive/CRUPA/ANTON_heap/90_grechka_av1_frame_0.jpg']\n",
            " ['drive/MyDrive/CRUPA/ANTON_heap/90_grechka_av1_frame_2.jpg'\n",
            "  'drive/MyDrive/CRUPA/ANTON_heap/90_grechka_av1_frame_3.jpg'\n",
            "  'drive/MyDrive/CRUPA/ANTON_heap/90_grechka_av1_frame_4.jpg'\n",
            "  'drive/MyDrive/CRUPA/ANTON_heap/90_grechka_av2_frame_0.jpg'\n",
            "  'drive/MyDrive/CRUPA/ANTON_heap/90_grechka_av2_frame_1.jpg']]\n",
            "[100 100 100 100 100 100 100 100 100 100  10  10  10  10  10  10  10  10\n",
            "  10  10 110 110 110 110 110 110 110 110 110 110 130 130 130 130 130 130\n",
            " 130 130 130 130 140 140 140 140 140 140 140 140 140 140 150 150 150 150\n",
            " 150 150 150 150 150 150 160 160 160 160 160 160 160 160 160 160 170 170\n",
            " 170 170 170 170 170 170 170 170 180 180 180 180 180 180 180 180 180 180\n",
            " 190 190 190 190 190 190 190 190 190 190 200 200 200 200 200 200 200 200\n",
            " 200 200  20  20  20  20  20  20  20  20  20  20  30  30  30  30  30  30\n",
            "  30  30  30  30  40  40  40  40  40  40  40  40  40  40  50  50  50  50\n",
            "  50  50  50  50  50  50  60  60  60  60  60  60  60  60  60  60  70  70\n",
            "  70  70  70  70  70  70  70  70  80  80  80  80  80  80  80  80  80  80\n",
            "  90  90  90  90  90  90  90  90  90  90 100 100  10  10 110 110 120 120\n",
            " 130 130 140 140 150 150 160 160 170 170 180 180 190 190 200 200  20  30\n",
            "  30  40  40  50  50  60  60  70  70  80  90  90]\n"
          ]
        }
      ]
    },
    {
      "cell_type": "code",
      "execution_count": null,
      "metadata": {
        "colab": {
          "base_uri": "https://localhost:8080/"
        },
        "id": "BTBciLlxqQ2A",
        "outputId": "de79d2cd-b43f-4cb1-fc6f-254aeb2cc8cc"
      },
      "outputs": [
        {
          "output_type": "stream",
          "name": "stdout",
          "text": [
            "[100 100 100 100 100 100 100 100 100 100  10  10  10  10  10  10  10  10\n",
            "  10  10 110 110 110 110 110 110 110 110 110 110 130 130 130 130 130 130\n",
            " 130 130 130 130 140 140 140 140 140 140 140 140 140 140 150 150 150 150\n",
            " 150 150 150 150 150 150 160 160 160 160 160 160 160 160 160 160 170 170\n",
            " 170 170 170 170 170 170 170 170 180 180 180 180 180 180 180 180 180 180\n",
            " 190 190 190 190 190 190 190 190 190 190 200 200 200 200 200 200 200 200\n",
            " 200 200  20  20  20  20  20  20  20  20  20  20  30  30  30  30  30  30\n",
            "  30  30  30  30  40  40  40  40  40  40  40  40  40  40  50  50  50  50\n",
            "  50  50  50  50  50  50  60  60  60  60  60  60  60  60  60  60  70  70\n",
            "  70  70  70  70  70  70  70  70  80  80  80  80  80  80  80  80  80  80\n",
            "  90  90  90  90  90  90  90  90  90  90 100 100  10  10 110 110 120 120\n",
            " 130 130 140 140 150 150 160 160 170 170 180 180 190 190 200 200  20  30\n",
            "  30  40  40  50  50  60  60  70  70  80  90  90]\n"
          ]
        }
      ],
      "source": [
        "images_list = []\n",
        "images_batch = []\n",
        "mass_list = []\n",
        "mass_batch = []\n",
        "j = 0\n",
        "for i, file in enumerate(images_info_df['image_name']):\n",
        "  #print(i,file)\n",
        "  if j < 5:\n",
        "    j += 1\n",
        "    img = cv2.imread(file)\n",
        "    img = cv2.cvtColor(img, cv2.COLOR_BGR2RGB)\n",
        "    img = cv2.resize(img, img_shape)\n",
        "    images_batch.append(img)\n",
        "    #mass_batch.append(images_info_df['mass'][i])\n",
        "    \n",
        "  else:\n",
        "    j = 0 \n",
        "    images_list.append(images_batch)\n",
        "    mass_list.append(int(images_info_df['mass'][i])) \n",
        "    images_batch = [] \n",
        "    mass_batch = []\n",
        "\n",
        "images_list = np.array(images_list)\n",
        "mass_list = np.array(mass_list)    \n",
        "# print(images_list)\n",
        "print(mass_list)"
      ]
    },
    {
      "cell_type": "code",
      "source": [
        "print(len(mass_list))"
      ],
      "metadata": {
        "colab": {
          "base_uri": "https://localhost:8080/"
        },
        "id": "QI2sFFGFJifb",
        "outputId": "e9cda0f1-9897-4534-b7de-5a321c435bce"
      },
      "execution_count": null,
      "outputs": [
        {
          "output_type": "stream",
          "name": "stdout",
          "text": [
            "228\n"
          ]
        }
      ]
    },
    {
      "cell_type": "markdown",
      "metadata": {
        "id": "uW6fA-7R1RaA"
      },
      "source": [
        "MODEL"
      ]
    },
    {
      "cell_type": "code",
      "execution_count": null,
      "metadata": {
        "id": "XSlj_LEK1Ph1"
      },
      "outputs": [],
      "source": [
        "import keras\n",
        "from keras.layers import Dense, LSTM, \\\n",
        "    Flatten, TimeDistributed, Conv2D, Dropout\n",
        "from keras import Sequential\n",
        "from keras.applications.vgg16 import VGG16\n",
        "\n",
        "vgg = VGG16(\n",
        "    include_top=False,\n",
        "    weights='imagenet',\n",
        "    input_shape=(224, 224, 3)\n",
        ")\n",
        "\n",
        "for layer in vgg.layers[:-4]:\n",
        "    layer.trainable = False\n",
        "\n",
        "model = Sequential()\n",
        "\n",
        "model.add(\n",
        "    TimeDistributed(vgg, input_shape=(5, 224, 224, 3))\n",
        ")\n",
        "\n",
        "model.add(\n",
        "    TimeDistributed(\n",
        "        Flatten()\n",
        "    )\n",
        ")\n",
        "model.add(LSTM(256, activation='relu', return_sequences=False))\n",
        "\n",
        "model.add(Dense(64, activation='relu'))\n",
        "model.add(Dropout(.5))\n",
        "model.add(Dense(1, activation='linear'))\n",
        "model.compile(optimizer = 'adam', loss='mean_absolute_error')"
      ]
    },
    {
      "cell_type": "code",
      "execution_count": null,
      "metadata": {
        "colab": {
          "base_uri": "https://localhost:8080/"
        },
        "id": "rWMdaK1O1Pks",
        "outputId": "7ae208f4-65b8-4b4d-ae14-52901e9b3c2c"
      },
      "outputs": [
        {
          "output_type": "stream",
          "name": "stdout",
          "text": [
            "Model: \"sequential\"\n",
            "_________________________________________________________________\n",
            " Layer (type)                Output Shape              Param #   \n",
            "=================================================================\n",
            " time_distributed (TimeDistr  (None, 5, 7, 7, 512)     14714688  \n",
            " ibuted)                                                         \n",
            "                                                                 \n",
            " time_distributed_1 (TimeDis  (None, 5, 25088)         0         \n",
            " tributed)                                                       \n",
            "                                                                 \n",
            " lstm (LSTM)                 (None, 256)               25953280  \n",
            "                                                                 \n",
            " dense (Dense)               (None, 64)                16448     \n",
            "                                                                 \n",
            " dropout (Dropout)           (None, 64)                0         \n",
            "                                                                 \n",
            " dense_1 (Dense)             (None, 1)                 65        \n",
            "                                                                 \n",
            "=================================================================\n",
            "Total params: 40,684,481\n",
            "Trainable params: 33,049,217\n",
            "Non-trainable params: 7,635,264\n",
            "_________________________________________________________________\n"
          ]
        }
      ],
      "source": [
        "model.summary()"
      ]
    },
    {
      "cell_type": "markdown",
      "metadata": {
        "id": "s8MwadOkSieB"
      },
      "source": [
        ""
      ]
    },
    {
      "cell_type": "code",
      "execution_count": null,
      "metadata": {
        "id": "3t618rKdSk6e"
      },
      "outputs": [],
      "source": [
        "epochs = 20\n",
        "batch_size = 64"
      ]
    },
    {
      "cell_type": "code",
      "execution_count": null,
      "metadata": {
        "colab": {
          "base_uri": "https://localhost:8080/"
        },
        "id": "q8yJNNK4Qen2",
        "outputId": "65ca2698-5ed0-4a7f-9819-2dc7e5d1f29f"
      },
      "outputs": [
        {
          "output_type": "stream",
          "name": "stdout",
          "text": [
            "WARNING:tensorflow:`batch_size` is no longer needed in the `TensorBoard` Callback and will be ignored in TensorFlow 2.0.\n",
            "WARNING:tensorflow:`epsilon` argument is deprecated and will be removed, use `min_delta` instead.\n"
          ]
        }
      ],
      "source": [
        "path = os.path.join('drive/MyDrive/CRUPA/model_save/', f'20210906_1623_v1_e{epochs}_b{batch_size}/')\n",
        "\n",
        "if not os.path.exists(path):\n",
        "    os.makedirs(path)\n",
        "\n",
        "earlystopper = EarlyStopping(patience=15, verbose=1)\n",
        "\n",
        "filepath = path + 'e{epoch:02d}_val{val_loss:.6f}.h5'\n",
        "\n",
        "tensorboard_dir = os.path.join(path, 'tensorboard')\n",
        "if not os.path.exists(tensorboard_dir):\n",
        "    os.makedirs(tensorboard_dir)\n",
        "\n",
        "tensorboard_callback = TensorBoard(\n",
        "            log_dir                = tensorboard_dir,\n",
        "            histogram_freq         = 0,\n",
        "            batch_size             = batch_size,\n",
        "            write_graph            = False, # True\n",
        "            write_grads            = False,\n",
        "            write_images           = False,\n",
        "            embeddings_freq        = 0,\n",
        "            embeddings_layer_names = None,\n",
        "            embeddings_metadata    = None\n",
        ")\n",
        "\n",
        "callbacks = [\n",
        "        ReduceLROnPlateau(monitor='val_loss', factor=0.5, patience=10, min_lr=1e-9, epsilon=0.00001, verbose=1, mode='min'),\n",
        "        ModelCheckpoint(filepath, monitor='val_loss', save_best_only=True, verbose=0),\n",
        "        tensorboard_callback\n",
        "]"
      ]
    },
    {
      "cell_type": "code",
      "execution_count": null,
      "metadata": {
        "colab": {
          "base_uri": "https://localhost:8080/",
          "height": 1000
        },
        "id": "ayTNfEwa1Pnz",
        "outputId": "febfab8e-5adc-4cbd-f552-c717df5e9341"
      },
      "outputs": [
        {
          "output_type": "stream",
          "name": "stdout",
          "text": [
            "Epoch 1/100\n",
            "3/3 [==============================] - 651s 236s/step - loss: 99.7840 - val_loss: 172.8464 - lr: 0.0010\n",
            "Epoch 2/100\n",
            "3/3 [==============================] - 649s 236s/step - loss: 450.0320 - val_loss: 168.0730 - lr: 0.0010\n",
            "Epoch 3/100\n",
            "3/3 [==============================] - 605s 214s/step - loss: 1044.5721 - val_loss: 328.5539 - lr: 0.0010\n",
            "Epoch 4/100\n",
            "3/3 [==============================] - 643s 233s/step - loss: 1787.6162 - val_loss: 302.4003 - lr: 0.0010\n",
            "Epoch 5/100\n",
            "3/3 [==============================] - 651s 237s/step - loss: 1132.7147 - val_loss: 558.1561 - lr: 0.0010\n",
            "Epoch 6/100\n",
            "3/3 [==============================] - 649s 234s/step - loss: 673.6477 - val_loss: 93.3570 - lr: 0.0010\n",
            "Epoch 7/100\n",
            "3/3 [==============================] - 605s 215s/step - loss: 411.8558 - val_loss: 106.1951 - lr: 0.0010\n",
            "Epoch 8/100\n",
            "3/3 [==============================] - 644s 234s/step - loss: 201.4298 - val_loss: 72.7175 - lr: 0.0010\n",
            "Epoch 9/100\n",
            "3/3 [==============================] - 619s 219s/step - loss: 93.5145 - val_loss: 93.0135 - lr: 0.0010\n",
            "Epoch 10/100\n",
            "3/3 [==============================] - 656s 238s/step - loss: 119.3407 - val_loss: 97.3286 - lr: 0.0010\n",
            "Epoch 11/100\n",
            "3/3 [==============================] - 656s 237s/step - loss: 98.3796 - val_loss: 55.0794 - lr: 0.0010\n",
            "Epoch 12/100\n",
            "3/3 [==============================] - 658s 237s/step - loss: 60.5738 - val_loss: 47.7584 - lr: 0.0010\n",
            "Epoch 13/100\n",
            "3/3 [==============================] - 620s 218s/step - loss: 54.3952 - val_loss: 49.2667 - lr: 0.0010\n",
            "Epoch 14/100\n",
            "3/3 [==============================] - 622s 221s/step - loss: 52.4842 - val_loss: 55.7554 - lr: 0.0010\n",
            "Epoch 15/100\n",
            "3/3 [==============================] - 656s 238s/step - loss: 58.2844 - val_loss: 49.8405 - lr: 0.0010\n",
            "Epoch 16/100\n",
            "3/3 [==============================] - 617s 219s/step - loss: 54.5634 - val_loss: 42.0667 - lr: 0.0010\n",
            "Epoch 17/100\n",
            "3/3 [==============================] - 654s 238s/step - loss: 45.3340 - val_loss: 45.8780 - lr: 0.0010\n",
            "Epoch 18/100\n",
            "3/3 [==============================] - 624s 221s/step - loss: 44.8854 - val_loss: 41.3719 - lr: 0.0010\n",
            "Epoch 19/100\n",
            "3/3 [==============================] - 626s 221s/step - loss: 43.8215 - val_loss: 39.9640 - lr: 0.0010\n",
            "Epoch 20/100\n",
            "3/3 [==============================] - 662s 239s/step - loss: 38.2925 - val_loss: 44.4142 - lr: 0.0010\n",
            "Epoch 21/100\n",
            "3/3 [==============================] - 659s 238s/step - loss: 36.8642 - val_loss: 38.7978 - lr: 0.0010\n",
            "Epoch 22/100\n",
            "3/3 [==============================] - 662s 239s/step - loss: 36.3041 - val_loss: 38.8925 - lr: 0.0010\n",
            "Epoch 23/100\n",
            "3/3 [==============================] - 674s 237s/step - loss: 34.8255 - val_loss: 41.7228 - lr: 0.0010\n",
            "Epoch 24/100\n",
            "3/3 [==============================] - 671s 242s/step - loss: 34.3686 - val_loss: 36.4187 - lr: 0.0010\n",
            "Epoch 25/100\n",
            "3/3 [==============================] - 668s 240s/step - loss: 39.7990 - val_loss: 40.5719 - lr: 0.0010\n",
            "Epoch 26/100\n",
            "3/3 [==============================] - 622s 220s/step - loss: 39.0831 - val_loss: 35.1495 - lr: 0.0010\n",
            "Epoch 27/100\n",
            "3/3 [==============================] - 626s 221s/step - loss: 29.2704 - val_loss: 34.5125 - lr: 0.0010\n",
            "Epoch 28/100\n",
            "3/3 [==============================] - 660s 238s/step - loss: 32.0917 - val_loss: 34.9372 - lr: 0.0010\n",
            "Epoch 29/100\n",
            "3/3 [==============================] - 618s 219s/step - loss: 33.1729 - val_loss: 36.0556 - lr: 0.0010\n",
            "Epoch 30/100\n",
            "3/3 [==============================] - 626s 223s/step - loss: 27.1290 - val_loss: 38.7218 - lr: 0.0010\n",
            "Epoch 31/100\n",
            "3/3 [==============================] - 666s 242s/step - loss: 30.1966 - val_loss: 38.2679 - lr: 0.0010\n",
            "Epoch 32/100\n",
            "3/3 [==============================] - 662s 240s/step - loss: 27.4080 - val_loss: 36.7012 - lr: 0.0010\n",
            "Epoch 33/100\n",
            "3/3 [==============================] - 663s 240s/step - loss: 31.6948 - val_loss: 34.7527 - lr: 0.0010\n",
            "Epoch 34/100\n",
            "3/3 [==============================] - 658s 239s/step - loss: 29.2544 - val_loss: 41.2108 - lr: 0.0010\n",
            "Epoch 35/100\n",
            "3/3 [==============================] - 665s 242s/step - loss: 32.1675 - val_loss: 33.8819 - lr: 0.0010\n",
            "Epoch 36/100\n",
            "3/3 [==============================] - 664s 240s/step - loss: 28.5036 - val_loss: 34.2212 - lr: 0.0010\n",
            "Epoch 37/100\n",
            "3/3 [==============================] - 620s 220s/step - loss: 30.7381 - val_loss: 34.4292 - lr: 0.0010\n",
            "Epoch 38/100\n",
            "3/3 [==============================] - 622s 220s/step - loss: 29.9814 - val_loss: 34.8405 - lr: 0.0010\n",
            "Epoch 39/100\n",
            "3/3 [==============================] - 626s 222s/step - loss: 24.1288 - val_loss: 36.2565 - lr: 0.0010\n",
            "Epoch 40/100\n",
            "3/3 [==============================] - 626s 222s/step - loss: 25.5048 - val_loss: 34.1536 - lr: 0.0010\n",
            "Epoch 41/100\n",
            "3/3 [==============================] - 626s 222s/step - loss: 26.2275 - val_loss: 35.1506 - lr: 0.0010\n",
            "Epoch 42/100\n",
            "3/3 [==============================] - 662s 240s/step - loss: 28.4116 - val_loss: 37.4106 - lr: 0.0010\n",
            "Epoch 43/100\n",
            "3/3 [==============================] - 655s 238s/step - loss: 28.3777 - val_loss: 36.3901 - lr: 0.0010\n",
            "Epoch 44/100\n",
            "3/3 [==============================] - 659s 239s/step - loss: 25.5641 - val_loss: 35.8121 - lr: 0.0010\n",
            "Epoch 45/100\n",
            "3/3 [==============================] - ETA: 0s - loss: 26.8436  \n",
            "Epoch 45: ReduceLROnPlateau reducing learning rate to 0.0005000000237487257.\n",
            "3/3 [==============================] - 642s 230s/step - loss: 26.8436 - val_loss: 35.8044 - lr: 0.0010\n",
            "Epoch 46/100\n",
            "3/3 [==============================] - 627s 222s/step - loss: 22.7750 - val_loss: 35.9004 - lr: 5.0000e-04\n",
            "Epoch 47/100\n",
            "1/3 [=========>....................] - ETA: 6:07 - loss: 24.1947"
          ]
        },
        {
          "output_type": "error",
          "ename": "KeyboardInterrupt",
          "evalue": "ignored",
          "traceback": [
            "\u001b[0;31m---------------------------------------------------------------------------\u001b[0m",
            "\u001b[0;31mKeyboardInterrupt\u001b[0m                         Traceback (most recent call last)",
            "\u001b[0;32m<ipython-input-69-296eed1f0b23>\u001b[0m in \u001b[0;36m<module>\u001b[0;34m()\u001b[0m\n\u001b[0;32m----> 1\u001b[0;31m \u001b[0mhistory\u001b[0m \u001b[0;34m=\u001b[0m \u001b[0mmodel\u001b[0m\u001b[0;34m.\u001b[0m\u001b[0mfit\u001b[0m\u001b[0;34m(\u001b[0m\u001b[0mimages_list\u001b[0m\u001b[0;34m,\u001b[0m \u001b[0mmass_list\u001b[0m\u001b[0;34m,\u001b[0m \u001b[0mvalidation_split\u001b[0m\u001b[0;34m=\u001b[0m\u001b[0;36m0.2\u001b[0m\u001b[0;34m,\u001b[0m \u001b[0mepochs\u001b[0m \u001b[0;34m=\u001b[0m \u001b[0;36m100\u001b[0m\u001b[0;34m,\u001b[0m \u001b[0mcallbacks\u001b[0m \u001b[0;34m=\u001b[0m \u001b[0mcallbacks\u001b[0m\u001b[0;34m,\u001b[0m \u001b[0mbatch_size\u001b[0m \u001b[0;34m=\u001b[0m \u001b[0;36m64\u001b[0m\u001b[0;34m)\u001b[0m\u001b[0;34m\u001b[0m\u001b[0;34m\u001b[0m\u001b[0m\n\u001b[0m",
            "\u001b[0;32m/usr/local/lib/python3.7/dist-packages/keras/utils/traceback_utils.py\u001b[0m in \u001b[0;36merror_handler\u001b[0;34m(*args, **kwargs)\u001b[0m\n\u001b[1;32m     62\u001b[0m     \u001b[0mfiltered_tb\u001b[0m \u001b[0;34m=\u001b[0m \u001b[0;32mNone\u001b[0m\u001b[0;34m\u001b[0m\u001b[0;34m\u001b[0m\u001b[0m\n\u001b[1;32m     63\u001b[0m     \u001b[0;32mtry\u001b[0m\u001b[0;34m:\u001b[0m\u001b[0;34m\u001b[0m\u001b[0;34m\u001b[0m\u001b[0m\n\u001b[0;32m---> 64\u001b[0;31m       \u001b[0;32mreturn\u001b[0m \u001b[0mfn\u001b[0m\u001b[0;34m(\u001b[0m\u001b[0;34m*\u001b[0m\u001b[0margs\u001b[0m\u001b[0;34m,\u001b[0m \u001b[0;34m**\u001b[0m\u001b[0mkwargs\u001b[0m\u001b[0;34m)\u001b[0m\u001b[0;34m\u001b[0m\u001b[0;34m\u001b[0m\u001b[0m\n\u001b[0m\u001b[1;32m     65\u001b[0m     \u001b[0;32mexcept\u001b[0m \u001b[0mException\u001b[0m \u001b[0;32mas\u001b[0m \u001b[0me\u001b[0m\u001b[0;34m:\u001b[0m  \u001b[0;31m# pylint: disable=broad-except\u001b[0m\u001b[0;34m\u001b[0m\u001b[0;34m\u001b[0m\u001b[0m\n\u001b[1;32m     66\u001b[0m       \u001b[0mfiltered_tb\u001b[0m \u001b[0;34m=\u001b[0m \u001b[0m_process_traceback_frames\u001b[0m\u001b[0;34m(\u001b[0m\u001b[0me\u001b[0m\u001b[0;34m.\u001b[0m\u001b[0m__traceback__\u001b[0m\u001b[0;34m)\u001b[0m\u001b[0;34m\u001b[0m\u001b[0;34m\u001b[0m\u001b[0m\n",
            "\u001b[0;32m/usr/local/lib/python3.7/dist-packages/keras/engine/training.py\u001b[0m in \u001b[0;36mfit\u001b[0;34m(self, x, y, batch_size, epochs, verbose, callbacks, validation_split, validation_data, shuffle, class_weight, sample_weight, initial_epoch, steps_per_epoch, validation_steps, validation_batch_size, validation_freq, max_queue_size, workers, use_multiprocessing)\u001b[0m\n\u001b[1;32m   1382\u001b[0m                 _r=1):\n\u001b[1;32m   1383\u001b[0m               \u001b[0mcallbacks\u001b[0m\u001b[0;34m.\u001b[0m\u001b[0mon_train_batch_begin\u001b[0m\u001b[0;34m(\u001b[0m\u001b[0mstep\u001b[0m\u001b[0;34m)\u001b[0m\u001b[0;34m\u001b[0m\u001b[0;34m\u001b[0m\u001b[0m\n\u001b[0;32m-> 1384\u001b[0;31m               \u001b[0mtmp_logs\u001b[0m \u001b[0;34m=\u001b[0m \u001b[0mself\u001b[0m\u001b[0;34m.\u001b[0m\u001b[0mtrain_function\u001b[0m\u001b[0;34m(\u001b[0m\u001b[0miterator\u001b[0m\u001b[0;34m)\u001b[0m\u001b[0;34m\u001b[0m\u001b[0;34m\u001b[0m\u001b[0m\n\u001b[0m\u001b[1;32m   1385\u001b[0m               \u001b[0;32mif\u001b[0m \u001b[0mdata_handler\u001b[0m\u001b[0;34m.\u001b[0m\u001b[0mshould_sync\u001b[0m\u001b[0;34m:\u001b[0m\u001b[0;34m\u001b[0m\u001b[0;34m\u001b[0m\u001b[0m\n\u001b[1;32m   1386\u001b[0m                 \u001b[0mcontext\u001b[0m\u001b[0;34m.\u001b[0m\u001b[0masync_wait\u001b[0m\u001b[0;34m(\u001b[0m\u001b[0;34m)\u001b[0m\u001b[0;34m\u001b[0m\u001b[0;34m\u001b[0m\u001b[0m\n",
            "\u001b[0;32m/usr/local/lib/python3.7/dist-packages/tensorflow/python/util/traceback_utils.py\u001b[0m in \u001b[0;36merror_handler\u001b[0;34m(*args, **kwargs)\u001b[0m\n\u001b[1;32m    148\u001b[0m     \u001b[0mfiltered_tb\u001b[0m \u001b[0;34m=\u001b[0m \u001b[0;32mNone\u001b[0m\u001b[0;34m\u001b[0m\u001b[0;34m\u001b[0m\u001b[0m\n\u001b[1;32m    149\u001b[0m     \u001b[0;32mtry\u001b[0m\u001b[0;34m:\u001b[0m\u001b[0;34m\u001b[0m\u001b[0;34m\u001b[0m\u001b[0m\n\u001b[0;32m--> 150\u001b[0;31m       \u001b[0;32mreturn\u001b[0m \u001b[0mfn\u001b[0m\u001b[0;34m(\u001b[0m\u001b[0;34m*\u001b[0m\u001b[0margs\u001b[0m\u001b[0;34m,\u001b[0m \u001b[0;34m**\u001b[0m\u001b[0mkwargs\u001b[0m\u001b[0;34m)\u001b[0m\u001b[0;34m\u001b[0m\u001b[0;34m\u001b[0m\u001b[0m\n\u001b[0m\u001b[1;32m    151\u001b[0m     \u001b[0;32mexcept\u001b[0m \u001b[0mException\u001b[0m \u001b[0;32mas\u001b[0m \u001b[0me\u001b[0m\u001b[0;34m:\u001b[0m\u001b[0;34m\u001b[0m\u001b[0;34m\u001b[0m\u001b[0m\n\u001b[1;32m    152\u001b[0m       \u001b[0mfiltered_tb\u001b[0m \u001b[0;34m=\u001b[0m \u001b[0m_process_traceback_frames\u001b[0m\u001b[0;34m(\u001b[0m\u001b[0me\u001b[0m\u001b[0;34m.\u001b[0m\u001b[0m__traceback__\u001b[0m\u001b[0;34m)\u001b[0m\u001b[0;34m\u001b[0m\u001b[0;34m\u001b[0m\u001b[0m\n",
            "\u001b[0;32m/usr/local/lib/python3.7/dist-packages/tensorflow/python/eager/def_function.py\u001b[0m in \u001b[0;36m__call__\u001b[0;34m(self, *args, **kwds)\u001b[0m\n\u001b[1;32m    913\u001b[0m \u001b[0;34m\u001b[0m\u001b[0m\n\u001b[1;32m    914\u001b[0m       \u001b[0;32mwith\u001b[0m \u001b[0mOptionalXlaContext\u001b[0m\u001b[0;34m(\u001b[0m\u001b[0mself\u001b[0m\u001b[0;34m.\u001b[0m\u001b[0m_jit_compile\u001b[0m\u001b[0;34m)\u001b[0m\u001b[0;34m:\u001b[0m\u001b[0;34m\u001b[0m\u001b[0;34m\u001b[0m\u001b[0m\n\u001b[0;32m--> 915\u001b[0;31m         \u001b[0mresult\u001b[0m \u001b[0;34m=\u001b[0m \u001b[0mself\u001b[0m\u001b[0;34m.\u001b[0m\u001b[0m_call\u001b[0m\u001b[0;34m(\u001b[0m\u001b[0;34m*\u001b[0m\u001b[0margs\u001b[0m\u001b[0;34m,\u001b[0m \u001b[0;34m**\u001b[0m\u001b[0mkwds\u001b[0m\u001b[0;34m)\u001b[0m\u001b[0;34m\u001b[0m\u001b[0;34m\u001b[0m\u001b[0m\n\u001b[0m\u001b[1;32m    916\u001b[0m \u001b[0;34m\u001b[0m\u001b[0m\n\u001b[1;32m    917\u001b[0m       \u001b[0mnew_tracing_count\u001b[0m \u001b[0;34m=\u001b[0m \u001b[0mself\u001b[0m\u001b[0;34m.\u001b[0m\u001b[0mexperimental_get_tracing_count\u001b[0m\u001b[0;34m(\u001b[0m\u001b[0;34m)\u001b[0m\u001b[0;34m\u001b[0m\u001b[0;34m\u001b[0m\u001b[0m\n",
            "\u001b[0;32m/usr/local/lib/python3.7/dist-packages/tensorflow/python/eager/def_function.py\u001b[0m in \u001b[0;36m_call\u001b[0;34m(self, *args, **kwds)\u001b[0m\n\u001b[1;32m    945\u001b[0m       \u001b[0;31m# In this case we have created variables on the first call, so we run the\u001b[0m\u001b[0;34m\u001b[0m\u001b[0;34m\u001b[0m\u001b[0;34m\u001b[0m\u001b[0m\n\u001b[1;32m    946\u001b[0m       \u001b[0;31m# defunned version which is guaranteed to never create variables.\u001b[0m\u001b[0;34m\u001b[0m\u001b[0;34m\u001b[0m\u001b[0;34m\u001b[0m\u001b[0m\n\u001b[0;32m--> 947\u001b[0;31m       \u001b[0;32mreturn\u001b[0m \u001b[0mself\u001b[0m\u001b[0;34m.\u001b[0m\u001b[0m_stateless_fn\u001b[0m\u001b[0;34m(\u001b[0m\u001b[0;34m*\u001b[0m\u001b[0margs\u001b[0m\u001b[0;34m,\u001b[0m \u001b[0;34m**\u001b[0m\u001b[0mkwds\u001b[0m\u001b[0;34m)\u001b[0m  \u001b[0;31m# pylint: disable=not-callable\u001b[0m\u001b[0;34m\u001b[0m\u001b[0;34m\u001b[0m\u001b[0m\n\u001b[0m\u001b[1;32m    948\u001b[0m     \u001b[0;32melif\u001b[0m \u001b[0mself\u001b[0m\u001b[0;34m.\u001b[0m\u001b[0m_stateful_fn\u001b[0m \u001b[0;32mis\u001b[0m \u001b[0;32mnot\u001b[0m \u001b[0;32mNone\u001b[0m\u001b[0;34m:\u001b[0m\u001b[0;34m\u001b[0m\u001b[0;34m\u001b[0m\u001b[0m\n\u001b[1;32m    949\u001b[0m       \u001b[0;31m# Release the lock early so that multiple threads can perform the call\u001b[0m\u001b[0;34m\u001b[0m\u001b[0;34m\u001b[0m\u001b[0;34m\u001b[0m\u001b[0m\n",
            "\u001b[0;32m/usr/local/lib/python3.7/dist-packages/tensorflow/python/eager/function.py\u001b[0m in \u001b[0;36m__call__\u001b[0;34m(self, *args, **kwargs)\u001b[0m\n\u001b[1;32m   2955\u001b[0m        filtered_flat_args) = self._maybe_define_function(args, kwargs)\n\u001b[1;32m   2956\u001b[0m     return graph_function._call_flat(\n\u001b[0;32m-> 2957\u001b[0;31m         filtered_flat_args, captured_inputs=graph_function.captured_inputs)  # pylint: disable=protected-access\n\u001b[0m\u001b[1;32m   2958\u001b[0m \u001b[0;34m\u001b[0m\u001b[0m\n\u001b[1;32m   2959\u001b[0m   \u001b[0;34m@\u001b[0m\u001b[0mproperty\u001b[0m\u001b[0;34m\u001b[0m\u001b[0;34m\u001b[0m\u001b[0m\n",
            "\u001b[0;32m/usr/local/lib/python3.7/dist-packages/tensorflow/python/eager/function.py\u001b[0m in \u001b[0;36m_call_flat\u001b[0;34m(self, args, captured_inputs, cancellation_manager)\u001b[0m\n\u001b[1;32m   1852\u001b[0m       \u001b[0;31m# No tape is watching; skip to running the function.\u001b[0m\u001b[0;34m\u001b[0m\u001b[0;34m\u001b[0m\u001b[0;34m\u001b[0m\u001b[0m\n\u001b[1;32m   1853\u001b[0m       return self._build_call_outputs(self._inference_function.call(\n\u001b[0;32m-> 1854\u001b[0;31m           ctx, args, cancellation_manager=cancellation_manager))\n\u001b[0m\u001b[1;32m   1855\u001b[0m     forward_backward = self._select_forward_and_backward_functions(\n\u001b[1;32m   1856\u001b[0m         \u001b[0margs\u001b[0m\u001b[0;34m,\u001b[0m\u001b[0;34m\u001b[0m\u001b[0;34m\u001b[0m\u001b[0m\n",
            "\u001b[0;32m/usr/local/lib/python3.7/dist-packages/tensorflow/python/eager/function.py\u001b[0m in \u001b[0;36mcall\u001b[0;34m(self, ctx, args, cancellation_manager)\u001b[0m\n\u001b[1;32m    502\u001b[0m               \u001b[0minputs\u001b[0m\u001b[0;34m=\u001b[0m\u001b[0margs\u001b[0m\u001b[0;34m,\u001b[0m\u001b[0;34m\u001b[0m\u001b[0;34m\u001b[0m\u001b[0m\n\u001b[1;32m    503\u001b[0m               \u001b[0mattrs\u001b[0m\u001b[0;34m=\u001b[0m\u001b[0mattrs\u001b[0m\u001b[0;34m,\u001b[0m\u001b[0;34m\u001b[0m\u001b[0;34m\u001b[0m\u001b[0m\n\u001b[0;32m--> 504\u001b[0;31m               ctx=ctx)\n\u001b[0m\u001b[1;32m    505\u001b[0m         \u001b[0;32melse\u001b[0m\u001b[0;34m:\u001b[0m\u001b[0;34m\u001b[0m\u001b[0;34m\u001b[0m\u001b[0m\n\u001b[1;32m    506\u001b[0m           outputs = execute.execute_with_cancellation(\n",
            "\u001b[0;32m/usr/local/lib/python3.7/dist-packages/tensorflow/python/eager/execute.py\u001b[0m in \u001b[0;36mquick_execute\u001b[0;34m(op_name, num_outputs, inputs, attrs, ctx, name)\u001b[0m\n\u001b[1;32m     53\u001b[0m     \u001b[0mctx\u001b[0m\u001b[0;34m.\u001b[0m\u001b[0mensure_initialized\u001b[0m\u001b[0;34m(\u001b[0m\u001b[0;34m)\u001b[0m\u001b[0;34m\u001b[0m\u001b[0;34m\u001b[0m\u001b[0m\n\u001b[1;32m     54\u001b[0m     tensors = pywrap_tfe.TFE_Py_Execute(ctx._handle, device_name, op_name,\n\u001b[0;32m---> 55\u001b[0;31m                                         inputs, attrs, num_outputs)\n\u001b[0m\u001b[1;32m     56\u001b[0m   \u001b[0;32mexcept\u001b[0m \u001b[0mcore\u001b[0m\u001b[0;34m.\u001b[0m\u001b[0m_NotOkStatusException\u001b[0m \u001b[0;32mas\u001b[0m \u001b[0me\u001b[0m\u001b[0;34m:\u001b[0m\u001b[0;34m\u001b[0m\u001b[0;34m\u001b[0m\u001b[0m\n\u001b[1;32m     57\u001b[0m     \u001b[0;32mif\u001b[0m \u001b[0mname\u001b[0m \u001b[0;32mis\u001b[0m \u001b[0;32mnot\u001b[0m \u001b[0;32mNone\u001b[0m\u001b[0;34m:\u001b[0m\u001b[0;34m\u001b[0m\u001b[0;34m\u001b[0m\u001b[0m\n",
            "\u001b[0;31mKeyboardInterrupt\u001b[0m: "
          ]
        }
      ],
      "source": [
        "history = model.fit(images_list, mass_list, validation_split=0.2, epochs = 100, callbacks = callbacks, batch_size = 64)"
      ]
    },
    {
      "cell_type": "code",
      "execution_count": null,
      "metadata": {
        "id": "JOMRaixqQiuA"
      },
      "outputs": [],
      "source": [
        ""
      ]
    },
    {
      "cell_type": "markdown",
      "metadata": {
        "id": "Y_mMm879qSOi"
      },
      "source": [
        "GENERATOR DATA"
      ]
    },
    {
      "cell_type": "code",
      "execution_count": null,
      "metadata": {
        "id": "qEYMEA2spcMS"
      },
      "outputs": [],
      "source": [
        "model.save('drive/MyDrive/CRUPA/model_save/model_LSTM_04_2020.h5')"
      ]
    },
    {
      "cell_type": "code",
      "execution_count": null,
      "metadata": {
        "id": "lxbRkPikILFs"
      },
      "outputs": [],
      "source": [
        ""
      ]
    },
    {
      "cell_type": "code",
      "execution_count": null,
      "metadata": {
        "colab": {
          "base_uri": "https://localhost:8080/"
        },
        "id": "SX6MFJh4o9U0",
        "outputId": "5be71fad-45a1-4de0-da7b-3836eec4d932"
      },
      "outputs": [
        {
          "output_type": "stream",
          "name": "stdout",
          "text": [
            "130 -true\n",
            "[[115.10689]] - predict\n"
          ]
        }
      ],
      "source": [
        "i = 225\n",
        "img_sample = images_list[i]\n",
        "img_sample = np.expand_dims(img_sample, axis=0)\n",
        "pred = model.predict(img_sample)\n",
        "print(images_info_df['mass'][i], '-true')\n",
        "print(pred, '- predict')\n"
      ]
    },
    {
      "cell_type": "code",
      "execution_count": null,
      "metadata": {
        "id": "b8YwXhhPSIwm",
        "colab": {
          "base_uri": "https://localhost:8080/",
          "height": 1000
        },
        "outputId": "7dab6ea4-0648-4db6-fbad-5f1329d169b8"
      },
      "outputs": [
        {
          "output_type": "stream",
          "name": "stdout",
          "text": [
            "100 -true\n",
            "[[93.44557]] - predict\n",
            "100 -true\n",
            "[[95.81205]] - predict\n",
            "100 -true\n",
            "[[98.02221]] - predict\n",
            "100 -true\n",
            "[[96.75058]] - predict\n",
            "100 -true\n",
            "[[99.29523]] - predict\n",
            "100 -true\n",
            "[[84.503624]] - predict\n",
            "100 -true\n",
            "[[88.53787]] - predict\n",
            "100 -true\n",
            "[[93.9474]] - predict\n",
            "100 -true\n",
            "[[106.849884]] - predict\n",
            "100 -true\n",
            "[[100.32175]] - predict\n",
            "100 -true\n",
            "[[14.584902]] - predict\n",
            "100 -true\n",
            "[[12.55113]] - predict\n",
            "100 -true\n",
            "[[12.936537]] - predict\n",
            "100 -true\n",
            "[[8.26472]] - predict\n",
            "100 -true\n",
            "[[10.540631]] - predict\n",
            "100 -true\n",
            "[[15.215013]] - predict\n",
            "100 -true\n",
            "[[10.447259]] - predict\n",
            "100 -true\n",
            "[[15.75032]] - predict\n",
            "100 -true\n",
            "[[14.94017]] - predict\n",
            "100 -true\n",
            "[[16.425879]] - predict\n",
            "100 -true\n",
            "[[94.08453]] - predict\n",
            "100 -true\n",
            "[[94.85288]] - predict\n",
            "100 -true\n",
            "[[102.68475]] - predict\n",
            "100 -true\n",
            "[[105.30854]] - predict\n",
            "100 -true\n",
            "[[102.57678]] - predict\n",
            "100 -true\n",
            "[[104.567986]] - predict\n",
            "100 -true\n",
            "[[108.55281]] - predict\n",
            "100 -true\n",
            "[[108.076035]] - predict\n",
            "100 -true\n",
            "[[106.644226]] - predict\n",
            "100 -true\n",
            "[[105.42126]] - predict\n",
            "100 -true\n",
            "[[118.22822]] - predict\n",
            "100 -true\n",
            "[[119.09361]] - predict\n",
            "100 -true\n",
            "[[114.69738]] - predict\n",
            "100 -true\n",
            "[[117.354164]] - predict\n",
            "100 -true\n",
            "[[120.593216]] - predict\n",
            "100 -true\n",
            "[[121.905045]] - predict\n",
            "100 -true\n",
            "[[130.37602]] - predict\n",
            "100 -true\n",
            "[[125.8785]] - predict\n",
            "100 -true\n",
            "[[133.99815]] - predict\n",
            "100 -true\n",
            "[[132.51544]] - predict\n",
            "100 -true\n",
            "[[117.95227]] - predict\n",
            "100 -true\n",
            "[[124.627045]] - predict\n",
            "100 -true\n",
            "[[128.08101]] - predict\n",
            "100 -true\n",
            "[[118.47875]] - predict\n",
            "100 -true\n",
            "[[122.3913]] - predict\n",
            "100 -true\n",
            "[[114.10551]] - predict\n",
            "100 -true\n",
            "[[117.85921]] - predict\n",
            "100 -true\n",
            "[[123.86884]] - predict\n",
            "100 -true\n",
            "[[129.98315]] - predict\n",
            "100 -true\n",
            "[[131.85156]] - predict\n",
            "100 -true\n",
            "[[126.56977]] - predict\n",
            "100 -true\n",
            "[[131.51422]] - predict\n",
            "100 -true\n",
            "[[132.12285]] - predict\n",
            "100 -true\n",
            "[[134.88922]] - predict\n",
            "100 -true\n",
            "[[143.38751]] - predict\n",
            "100 -true\n",
            "[[131.11497]] - predict\n",
            "100 -true\n",
            "[[129.34514]] - predict\n",
            "100 -true\n",
            "[[140.66074]] - predict\n",
            "100 -true\n",
            "[[136.36845]] - predict\n",
            "100 -true\n",
            "[[141.94077]] - predict\n",
            "10 -true\n",
            "[[160.16212]] - predict\n",
            "10 -true\n",
            "[[153.23926]] - predict\n",
            "10 -true\n",
            "[[159.95287]] - predict\n",
            "10 -true\n",
            "[[164.75499]] - predict\n",
            "10 -true\n",
            "[[166.05177]] - predict\n",
            "10 -true\n",
            "[[149.4089]] - predict\n",
            "10 -true\n",
            "[[152.94711]] - predict\n",
            "10 -true\n",
            "[[154.55403]] - predict\n",
            "10 -true\n",
            "[[147.74625]] - predict\n",
            "10 -true\n",
            "[[145.65851]] - predict\n",
            "10 -true\n",
            "[[149.17566]] - predict\n",
            "10 -true\n",
            "[[143.65279]] - predict\n",
            "10 -true\n",
            "[[158.6018]] - predict\n",
            "10 -true\n",
            "[[157.05205]] - predict\n",
            "10 -true\n",
            "[[162.30916]] - predict\n",
            "10 -true\n",
            "[[149.95137]] - predict\n",
            "10 -true\n",
            "[[153.69875]] - predict\n",
            "10 -true\n",
            "[[161.36716]] - predict\n",
            "10 -true\n",
            "[[164.57263]] - predict\n",
            "10 -true\n",
            "[[166.41455]] - predict\n",
            "10 -true\n",
            "[[151.41107]] - predict\n",
            "10 -true\n",
            "[[146.73573]] - predict\n"
          ]
        },
        {
          "output_type": "error",
          "ename": "KeyboardInterrupt",
          "evalue": "ignored",
          "traceback": [
            "\u001b[0;31m---------------------------------------------------------------------------\u001b[0m",
            "\u001b[0;31mKeyboardInterrupt\u001b[0m                         Traceback (most recent call last)",
            "\u001b[0;32m<ipython-input-78-2232cecd4521>\u001b[0m in \u001b[0;36m<module>\u001b[0;34m()\u001b[0m\n\u001b[1;32m      2\u001b[0m   \u001b[0mimg_sample\u001b[0m \u001b[0;34m=\u001b[0m \u001b[0mimages_list\u001b[0m\u001b[0;34m[\u001b[0m\u001b[0mi\u001b[0m\u001b[0;34m]\u001b[0m\u001b[0;34m\u001b[0m\u001b[0;34m\u001b[0m\u001b[0m\n\u001b[1;32m      3\u001b[0m   \u001b[0mimg_sample\u001b[0m \u001b[0;34m=\u001b[0m \u001b[0mnp\u001b[0m\u001b[0;34m.\u001b[0m\u001b[0mexpand_dims\u001b[0m\u001b[0;34m(\u001b[0m\u001b[0mimg_sample\u001b[0m\u001b[0;34m,\u001b[0m \u001b[0maxis\u001b[0m\u001b[0;34m=\u001b[0m\u001b[0;36m0\u001b[0m\u001b[0;34m)\u001b[0m\u001b[0;34m\u001b[0m\u001b[0;34m\u001b[0m\u001b[0m\n\u001b[0;32m----> 4\u001b[0;31m   \u001b[0mpred\u001b[0m \u001b[0;34m=\u001b[0m \u001b[0mmodel\u001b[0m\u001b[0;34m.\u001b[0m\u001b[0mpredict\u001b[0m\u001b[0;34m(\u001b[0m\u001b[0mimg_sample\u001b[0m\u001b[0;34m)\u001b[0m\u001b[0;34m\u001b[0m\u001b[0;34m\u001b[0m\u001b[0m\n\u001b[0m\u001b[1;32m      5\u001b[0m   \u001b[0mprint\u001b[0m\u001b[0;34m(\u001b[0m\u001b[0mimages_info_df\u001b[0m\u001b[0;34m[\u001b[0m\u001b[0;34m'mass'\u001b[0m\u001b[0;34m]\u001b[0m\u001b[0;34m[\u001b[0m\u001b[0mi\u001b[0m\u001b[0;34m]\u001b[0m\u001b[0;34m,\u001b[0m \u001b[0;34m'-true'\u001b[0m\u001b[0;34m)\u001b[0m\u001b[0;34m\u001b[0m\u001b[0;34m\u001b[0m\u001b[0m\n\u001b[1;32m      6\u001b[0m   \u001b[0mprint\u001b[0m\u001b[0;34m(\u001b[0m\u001b[0mpred\u001b[0m\u001b[0;34m,\u001b[0m \u001b[0;34m'- predict'\u001b[0m\u001b[0;34m)\u001b[0m\u001b[0;34m\u001b[0m\u001b[0;34m\u001b[0m\u001b[0m\n",
            "\u001b[0;32m/usr/local/lib/python3.7/dist-packages/keras/utils/traceback_utils.py\u001b[0m in \u001b[0;36merror_handler\u001b[0;34m(*args, **kwargs)\u001b[0m\n\u001b[1;32m     62\u001b[0m     \u001b[0mfiltered_tb\u001b[0m \u001b[0;34m=\u001b[0m \u001b[0;32mNone\u001b[0m\u001b[0;34m\u001b[0m\u001b[0;34m\u001b[0m\u001b[0m\n\u001b[1;32m     63\u001b[0m     \u001b[0;32mtry\u001b[0m\u001b[0;34m:\u001b[0m\u001b[0;34m\u001b[0m\u001b[0;34m\u001b[0m\u001b[0m\n\u001b[0;32m---> 64\u001b[0;31m       \u001b[0;32mreturn\u001b[0m \u001b[0mfn\u001b[0m\u001b[0;34m(\u001b[0m\u001b[0;34m*\u001b[0m\u001b[0margs\u001b[0m\u001b[0;34m,\u001b[0m \u001b[0;34m**\u001b[0m\u001b[0mkwargs\u001b[0m\u001b[0;34m)\u001b[0m\u001b[0;34m\u001b[0m\u001b[0;34m\u001b[0m\u001b[0m\n\u001b[0m\u001b[1;32m     65\u001b[0m     \u001b[0;32mexcept\u001b[0m \u001b[0mException\u001b[0m \u001b[0;32mas\u001b[0m \u001b[0me\u001b[0m\u001b[0;34m:\u001b[0m  \u001b[0;31m# pylint: disable=broad-except\u001b[0m\u001b[0;34m\u001b[0m\u001b[0;34m\u001b[0m\u001b[0m\n\u001b[1;32m     66\u001b[0m       \u001b[0mfiltered_tb\u001b[0m \u001b[0;34m=\u001b[0m \u001b[0m_process_traceback_frames\u001b[0m\u001b[0;34m(\u001b[0m\u001b[0me\u001b[0m\u001b[0;34m.\u001b[0m\u001b[0m__traceback__\u001b[0m\u001b[0;34m)\u001b[0m\u001b[0;34m\u001b[0m\u001b[0;34m\u001b[0m\u001b[0m\n",
            "\u001b[0;32m/usr/local/lib/python3.7/dist-packages/keras/engine/training.py\u001b[0m in \u001b[0;36mpredict\u001b[0;34m(self, x, batch_size, verbose, steps, callbacks, max_queue_size, workers, use_multiprocessing)\u001b[0m\n\u001b[1;32m   1980\u001b[0m           \u001b[0;32mfor\u001b[0m \u001b[0mstep\u001b[0m \u001b[0;32min\u001b[0m \u001b[0mdata_handler\u001b[0m\u001b[0;34m.\u001b[0m\u001b[0msteps\u001b[0m\u001b[0;34m(\u001b[0m\u001b[0;34m)\u001b[0m\u001b[0;34m:\u001b[0m\u001b[0;34m\u001b[0m\u001b[0;34m\u001b[0m\u001b[0m\n\u001b[1;32m   1981\u001b[0m             \u001b[0mcallbacks\u001b[0m\u001b[0;34m.\u001b[0m\u001b[0mon_predict_batch_begin\u001b[0m\u001b[0;34m(\u001b[0m\u001b[0mstep\u001b[0m\u001b[0;34m)\u001b[0m\u001b[0;34m\u001b[0m\u001b[0;34m\u001b[0m\u001b[0m\n\u001b[0;32m-> 1982\u001b[0;31m             \u001b[0mtmp_batch_outputs\u001b[0m \u001b[0;34m=\u001b[0m \u001b[0mself\u001b[0m\u001b[0;34m.\u001b[0m\u001b[0mpredict_function\u001b[0m\u001b[0;34m(\u001b[0m\u001b[0miterator\u001b[0m\u001b[0;34m)\u001b[0m\u001b[0;34m\u001b[0m\u001b[0;34m\u001b[0m\u001b[0m\n\u001b[0m\u001b[1;32m   1983\u001b[0m             \u001b[0;32mif\u001b[0m \u001b[0mdata_handler\u001b[0m\u001b[0;34m.\u001b[0m\u001b[0mshould_sync\u001b[0m\u001b[0;34m:\u001b[0m\u001b[0;34m\u001b[0m\u001b[0;34m\u001b[0m\u001b[0m\n\u001b[1;32m   1984\u001b[0m               \u001b[0mcontext\u001b[0m\u001b[0;34m.\u001b[0m\u001b[0masync_wait\u001b[0m\u001b[0;34m(\u001b[0m\u001b[0;34m)\u001b[0m\u001b[0;34m\u001b[0m\u001b[0;34m\u001b[0m\u001b[0m\n",
            "\u001b[0;32m/usr/local/lib/python3.7/dist-packages/tensorflow/python/util/traceback_utils.py\u001b[0m in \u001b[0;36merror_handler\u001b[0;34m(*args, **kwargs)\u001b[0m\n\u001b[1;32m    148\u001b[0m     \u001b[0mfiltered_tb\u001b[0m \u001b[0;34m=\u001b[0m \u001b[0;32mNone\u001b[0m\u001b[0;34m\u001b[0m\u001b[0;34m\u001b[0m\u001b[0m\n\u001b[1;32m    149\u001b[0m     \u001b[0;32mtry\u001b[0m\u001b[0;34m:\u001b[0m\u001b[0;34m\u001b[0m\u001b[0;34m\u001b[0m\u001b[0m\n\u001b[0;32m--> 150\u001b[0;31m       \u001b[0;32mreturn\u001b[0m \u001b[0mfn\u001b[0m\u001b[0;34m(\u001b[0m\u001b[0;34m*\u001b[0m\u001b[0margs\u001b[0m\u001b[0;34m,\u001b[0m \u001b[0;34m**\u001b[0m\u001b[0mkwargs\u001b[0m\u001b[0;34m)\u001b[0m\u001b[0;34m\u001b[0m\u001b[0;34m\u001b[0m\u001b[0m\n\u001b[0m\u001b[1;32m    151\u001b[0m     \u001b[0;32mexcept\u001b[0m \u001b[0mException\u001b[0m \u001b[0;32mas\u001b[0m \u001b[0me\u001b[0m\u001b[0;34m:\u001b[0m\u001b[0;34m\u001b[0m\u001b[0;34m\u001b[0m\u001b[0m\n\u001b[1;32m    152\u001b[0m       \u001b[0mfiltered_tb\u001b[0m \u001b[0;34m=\u001b[0m \u001b[0m_process_traceback_frames\u001b[0m\u001b[0;34m(\u001b[0m\u001b[0me\u001b[0m\u001b[0;34m.\u001b[0m\u001b[0m__traceback__\u001b[0m\u001b[0;34m)\u001b[0m\u001b[0;34m\u001b[0m\u001b[0;34m\u001b[0m\u001b[0m\n",
            "\u001b[0;32m/usr/local/lib/python3.7/dist-packages/tensorflow/python/eager/def_function.py\u001b[0m in \u001b[0;36m__call__\u001b[0;34m(self, *args, **kwds)\u001b[0m\n\u001b[1;32m    913\u001b[0m \u001b[0;34m\u001b[0m\u001b[0m\n\u001b[1;32m    914\u001b[0m       \u001b[0;32mwith\u001b[0m \u001b[0mOptionalXlaContext\u001b[0m\u001b[0;34m(\u001b[0m\u001b[0mself\u001b[0m\u001b[0;34m.\u001b[0m\u001b[0m_jit_compile\u001b[0m\u001b[0;34m)\u001b[0m\u001b[0;34m:\u001b[0m\u001b[0;34m\u001b[0m\u001b[0;34m\u001b[0m\u001b[0m\n\u001b[0;32m--> 915\u001b[0;31m         \u001b[0mresult\u001b[0m \u001b[0;34m=\u001b[0m \u001b[0mself\u001b[0m\u001b[0;34m.\u001b[0m\u001b[0m_call\u001b[0m\u001b[0;34m(\u001b[0m\u001b[0;34m*\u001b[0m\u001b[0margs\u001b[0m\u001b[0;34m,\u001b[0m \u001b[0;34m**\u001b[0m\u001b[0mkwds\u001b[0m\u001b[0;34m)\u001b[0m\u001b[0;34m\u001b[0m\u001b[0;34m\u001b[0m\u001b[0m\n\u001b[0m\u001b[1;32m    916\u001b[0m \u001b[0;34m\u001b[0m\u001b[0m\n\u001b[1;32m    917\u001b[0m       \u001b[0mnew_tracing_count\u001b[0m \u001b[0;34m=\u001b[0m \u001b[0mself\u001b[0m\u001b[0;34m.\u001b[0m\u001b[0mexperimental_get_tracing_count\u001b[0m\u001b[0;34m(\u001b[0m\u001b[0;34m)\u001b[0m\u001b[0;34m\u001b[0m\u001b[0;34m\u001b[0m\u001b[0m\n",
            "\u001b[0;32m/usr/local/lib/python3.7/dist-packages/tensorflow/python/eager/def_function.py\u001b[0m in \u001b[0;36m_call\u001b[0;34m(self, *args, **kwds)\u001b[0m\n\u001b[1;32m    952\u001b[0m       \u001b[0;31m# In this case we have not created variables on the first call. So we can\u001b[0m\u001b[0;34m\u001b[0m\u001b[0;34m\u001b[0m\u001b[0;34m\u001b[0m\u001b[0m\n\u001b[1;32m    953\u001b[0m       \u001b[0;31m# run the first trace but we should fail if variables are created.\u001b[0m\u001b[0;34m\u001b[0m\u001b[0;34m\u001b[0m\u001b[0;34m\u001b[0m\u001b[0m\n\u001b[0;32m--> 954\u001b[0;31m       \u001b[0mresults\u001b[0m \u001b[0;34m=\u001b[0m \u001b[0mself\u001b[0m\u001b[0;34m.\u001b[0m\u001b[0m_stateful_fn\u001b[0m\u001b[0;34m(\u001b[0m\u001b[0;34m*\u001b[0m\u001b[0margs\u001b[0m\u001b[0;34m,\u001b[0m \u001b[0;34m**\u001b[0m\u001b[0mkwds\u001b[0m\u001b[0;34m)\u001b[0m\u001b[0;34m\u001b[0m\u001b[0;34m\u001b[0m\u001b[0m\n\u001b[0m\u001b[1;32m    955\u001b[0m       \u001b[0;32mif\u001b[0m \u001b[0mself\u001b[0m\u001b[0;34m.\u001b[0m\u001b[0m_created_variables\u001b[0m \u001b[0;32mand\u001b[0m \u001b[0;32mnot\u001b[0m \u001b[0mALLOW_DYNAMIC_VARIABLE_CREATION\u001b[0m\u001b[0;34m:\u001b[0m\u001b[0;34m\u001b[0m\u001b[0;34m\u001b[0m\u001b[0m\n\u001b[1;32m    956\u001b[0m         raise ValueError(\"Creating variables on a non-first call to a function\"\n",
            "\u001b[0;32m/usr/local/lib/python3.7/dist-packages/tensorflow/python/eager/function.py\u001b[0m in \u001b[0;36m__call__\u001b[0;34m(self, *args, **kwargs)\u001b[0m\n\u001b[1;32m   2955\u001b[0m        filtered_flat_args) = self._maybe_define_function(args, kwargs)\n\u001b[1;32m   2956\u001b[0m     return graph_function._call_flat(\n\u001b[0;32m-> 2957\u001b[0;31m         filtered_flat_args, captured_inputs=graph_function.captured_inputs)  # pylint: disable=protected-access\n\u001b[0m\u001b[1;32m   2958\u001b[0m \u001b[0;34m\u001b[0m\u001b[0m\n\u001b[1;32m   2959\u001b[0m   \u001b[0;34m@\u001b[0m\u001b[0mproperty\u001b[0m\u001b[0;34m\u001b[0m\u001b[0;34m\u001b[0m\u001b[0m\n",
            "\u001b[0;32m/usr/local/lib/python3.7/dist-packages/tensorflow/python/eager/function.py\u001b[0m in \u001b[0;36m_call_flat\u001b[0;34m(self, args, captured_inputs, cancellation_manager)\u001b[0m\n\u001b[1;32m   1852\u001b[0m       \u001b[0;31m# No tape is watching; skip to running the function.\u001b[0m\u001b[0;34m\u001b[0m\u001b[0;34m\u001b[0m\u001b[0;34m\u001b[0m\u001b[0m\n\u001b[1;32m   1853\u001b[0m       return self._build_call_outputs(self._inference_function.call(\n\u001b[0;32m-> 1854\u001b[0;31m           ctx, args, cancellation_manager=cancellation_manager))\n\u001b[0m\u001b[1;32m   1855\u001b[0m     forward_backward = self._select_forward_and_backward_functions(\n\u001b[1;32m   1856\u001b[0m         \u001b[0margs\u001b[0m\u001b[0;34m,\u001b[0m\u001b[0;34m\u001b[0m\u001b[0;34m\u001b[0m\u001b[0m\n",
            "\u001b[0;32m/usr/local/lib/python3.7/dist-packages/tensorflow/python/eager/function.py\u001b[0m in \u001b[0;36mcall\u001b[0;34m(self, ctx, args, cancellation_manager)\u001b[0m\n\u001b[1;32m    502\u001b[0m               \u001b[0minputs\u001b[0m\u001b[0;34m=\u001b[0m\u001b[0margs\u001b[0m\u001b[0;34m,\u001b[0m\u001b[0;34m\u001b[0m\u001b[0;34m\u001b[0m\u001b[0m\n\u001b[1;32m    503\u001b[0m               \u001b[0mattrs\u001b[0m\u001b[0;34m=\u001b[0m\u001b[0mattrs\u001b[0m\u001b[0;34m,\u001b[0m\u001b[0;34m\u001b[0m\u001b[0;34m\u001b[0m\u001b[0m\n\u001b[0;32m--> 504\u001b[0;31m               ctx=ctx)\n\u001b[0m\u001b[1;32m    505\u001b[0m         \u001b[0;32melse\u001b[0m\u001b[0;34m:\u001b[0m\u001b[0;34m\u001b[0m\u001b[0;34m\u001b[0m\u001b[0m\n\u001b[1;32m    506\u001b[0m           outputs = execute.execute_with_cancellation(\n",
            "\u001b[0;32m/usr/local/lib/python3.7/dist-packages/tensorflow/python/eager/execute.py\u001b[0m in \u001b[0;36mquick_execute\u001b[0;34m(op_name, num_outputs, inputs, attrs, ctx, name)\u001b[0m\n\u001b[1;32m     53\u001b[0m     \u001b[0mctx\u001b[0m\u001b[0;34m.\u001b[0m\u001b[0mensure_initialized\u001b[0m\u001b[0;34m(\u001b[0m\u001b[0;34m)\u001b[0m\u001b[0;34m\u001b[0m\u001b[0;34m\u001b[0m\u001b[0m\n\u001b[1;32m     54\u001b[0m     tensors = pywrap_tfe.TFE_Py_Execute(ctx._handle, device_name, op_name,\n\u001b[0;32m---> 55\u001b[0;31m                                         inputs, attrs, num_outputs)\n\u001b[0m\u001b[1;32m     56\u001b[0m   \u001b[0;32mexcept\u001b[0m \u001b[0mcore\u001b[0m\u001b[0;34m.\u001b[0m\u001b[0m_NotOkStatusException\u001b[0m \u001b[0;32mas\u001b[0m \u001b[0me\u001b[0m\u001b[0;34m:\u001b[0m\u001b[0;34m\u001b[0m\u001b[0;34m\u001b[0m\u001b[0m\n\u001b[1;32m     57\u001b[0m     \u001b[0;32mif\u001b[0m \u001b[0mname\u001b[0m \u001b[0;32mis\u001b[0m \u001b[0;32mnot\u001b[0m \u001b[0;32mNone\u001b[0m\u001b[0;34m:\u001b[0m\u001b[0;34m\u001b[0m\u001b[0;34m\u001b[0m\u001b[0m\n",
            "\u001b[0;31mKeyboardInterrupt\u001b[0m: "
          ]
        }
      ],
      "source": [
        "for i in range(0,100):\n",
        "  img_sample = images_list[i]\n",
        "  img_sample = np.expand_dims(img_sample, axis=0)\n",
        "  pred = model.predict(img_sample)\n",
        "  print(images_info_df['mass'][i], '-true')\n",
        "  print(pred, '- predict')"
      ]
    },
    {
      "cell_type": "code",
      "source": [
        ""
      ],
      "metadata": {
        "id": "US5DVwBJDPNb"
      },
      "execution_count": null,
      "outputs": []
    }
  ],
  "metadata": {
    "colab": {
      "collapsed_sections": [],
      "name": "TimeDistributed.ipynb",
      "provenance": []
    },
    "kernelspec": {
      "display_name": "Python 3",
      "name": "python3"
    },
    "language_info": {
      "name": "python"
    }
  },
  "nbformat": 4,
  "nbformat_minor": 0
}