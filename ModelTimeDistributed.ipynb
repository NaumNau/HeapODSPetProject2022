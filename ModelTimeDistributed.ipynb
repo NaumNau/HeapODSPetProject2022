{
 "cells": [
  {
   "cell_type": "code",
   "execution_count": 1,
   "id": "83ac6ea1",
   "metadata": {},
   "outputs": [],
   "source": [
    "import os\n",
    "import matplotlib.pyplot as plt\n",
    "%matplotlib inline\n",
    "from tensorflow.keras.models import Model\n",
    "import pandas as pd\n",
    "import numpy as np\n",
    "import cv2\n",
    "import keras\n",
    "from keras.layers import Conv2D, MaxPooling2D, BatchNormalization, GlobalMaxPooling2D, GlobalAveragePooling2D\n",
    "from keras.layers import Activation, Dropout, Flatten, Dense\n",
    "from glob import glob\n",
    "from keras.callbacks import EarlyStopping, ModelCheckpoint, ReduceLROnPlateau, TensorBoard\n",
    "os.environ[\"CUDA_VISIBLE_DEVICES\"] = \"1\""
   ]
  },
  {
   "cell_type": "code",
   "execution_count": 2,
   "id": "e1f3d993",
   "metadata": {},
   "outputs": [],
   "source": [
    "main_dir = 'C:/e/CRUPA/MISHA_heap_v2/'\n",
    "main_dir_Anton = 'C:/e/CRUPA/ANTON_heap/'"
   ]
  },
  {
   "cell_type": "markdown",
   "id": "50c42432",
   "metadata": {},
   "source": [
    "# DATA GENERATOR"
   ]
  },
  {
   "cell_type": "code",
   "execution_count": 4,
   "id": "7311ef99",
   "metadata": {},
   "outputs": [],
   "source": [
    "\n",
    "img_shape = (256, 256)\n",
    "images_mish = sorted(os.listdir(main_dir))\n",
    "images_anton = sorted(os.listdir(main_dir_Anton))\n",
    "#images_misha = os.listdir(main_dir_Mish)\n",
    "images = images_mish + images_anton \n",
    "\n",
    "images_info_df = pd.DataFrame(columns=['image_name', 'mass', 'food_type'])\n",
    "for ind, img in enumerate(images):\n",
    "    items = img.split('_')\n",
    "    file = img.split('_')[2]\n",
    "    #print(file[0:2])\n",
    "    if file[0:2] == 'mv':\n",
    "      images_info_df.loc[ind] = [main_dir + img, int(items[0]), items[1]]\n",
    "    elif file[0:2] == 'av':\n",
    "      images_info_df.loc[ind] = [main_dir_Anton + img, int(items[0]), items[1]]\n",
    "    \n",
    "#images_info_df['image_name'] = sorted(images_info_df['image_name'])\n",
    "mass_list = list(images_info_df['mass'])  \n",
    "mass_list = np.array(mass_list)"
   ]
  },
  {
   "cell_type": "code",
   "execution_count": 5,
   "id": "c8f32886",
   "metadata": {},
   "outputs": [
    {
     "name": "stdout",
     "output_type": "stream",
     "text": [
      "[100 100 100 100 100 100 100 100 100 100  10  10  10  10  10  10  10  10\n",
      "  10  10 110 110 110 110 110 110 110 110 110 110 130 130 130 130 130 130\n",
      " 130 130 130 130 140 140 140 140 140 140 140 140 140 140 150 150 150 150\n",
      " 150 150 150 150 150 150 160 160 160 160 160 160 160 160 160 160 170 170\n",
      " 170 170 170 170 170 170 170 170 180 180 180 180 180 180 180 180 180 180\n",
      " 190 190 190 190 190 190 190 190 190 190 200 200 200 200 200 200 200 200\n",
      " 200 200  20  20  20  20  20  20  20  20  20  20  30  30  30  30  30  30\n",
      "  30  30  30  30  40  40  40  40  40  40  40  40  40  40  50  50  50  50\n",
      "  50  50  50  50  50  50  60  60  60  60  60  60  60  60  60  60  70  70\n",
      "  70  70  70  70  70  70  70  70  80  80  80  80  80  80  80  80  80  80\n",
      "  90  90  90  90  90  90  90  90  90  90 100 100  10  10 110 110 120 120\n",
      " 130 130 140 140 150 150 160 160 170 170 180 180 190 190 200 200  20  30\n",
      "  30  40  40  50  50  60  60  70  70  80  90  90]\n"
     ]
    }
   ],
   "source": [
    "images_list = []\n",
    "images_batch = []\n",
    "mass_list = []\n",
    "mass_batch = []\n",
    "j = 0\n",
    "for i, file in enumerate(images_info_df['image_name']):\n",
    "  #print(i,file)\n",
    "  if j < 5:\n",
    "    j += 1\n",
    "    img = cv2.imread(file)\n",
    "    img = cv2.cvtColor(img, cv2.COLOR_BGR2RGB)\n",
    "    img = cv2.resize(img, img_shape)\n",
    "    images_batch.append(img)\n",
    "    mass_batch.append(images_info_df['mass'][i])\n",
    "    \n",
    "  else:\n",
    "    j = 0 \n",
    "    images_list.append(images_batch)\n",
    "    mass_list.append(int(images_info_df['mass'][i])) \n",
    "    images_batch = [] \n",
    "    mass_batch = []\n",
    "\n",
    "images_list = np.array(images_list)\n",
    "mass_list = np.array(mass_list)    \n",
    "\n",
    "print(mass_list)"
   ]
  },
  {
   "cell_type": "markdown",
   "id": "35da166f",
   "metadata": {},
   "source": [
    "# MODEL"
   ]
  },
  {
   "cell_type": "code",
   "execution_count": 7,
   "id": "b1879d44",
   "metadata": {},
   "outputs": [],
   "source": [
    "import keras\n",
    "from keras.layers import Dense, LSTM, \\\n",
    "    Flatten, TimeDistributed, Conv2D, Dropout\n",
    "from keras import Sequential\n",
    "from keras.applications.vgg16 import VGG16\n",
    "from tensorflow.keras.applications import MobileNet,ResNet50\n",
    "from tensorflow.keras.applications.resnet50 import preprocess_input\n",
    "# create a VGG16 \"model\", we will use\n",
    "# image with shape (224, 224, 3)\n",
    "base_model=ResNet50( weights='imagenet',include_top=False,input_shape=(256,256,3))\n",
    "# vgg = VGG16(\n",
    "#     include_top=False,\n",
    "#     weights='imagenet',\n",
    "#     input_shape=(224, 224, 3)\n",
    "# )\n",
    "\n",
    "for layer in base_model.layers[:-4]:\n",
    "    layer.trainable = False\n",
    "\n",
    "model = Sequential()\n",
    "\n",
    "model.add(\n",
    "    TimeDistributed(base_model, input_shape=(5, 256, 256, 3))\n",
    ")\n",
    "\n",
    "model.add(\n",
    "    TimeDistributed(\n",
    "        #Flatten()\n",
    "        GlobalAveragePooling2D()\n",
    "    )\n",
    ")\n",
    "model.add(LSTM(256, activation='relu', return_sequences=False))\n",
    "\n",
    "model.add(Dense(64, activation='relu'))\n",
    "model.add(Dropout(.5))\n",
    "model.add(Dense(1, activation='linear'))\n",
    "model.compile(optimizer = 'adam', loss='mean_absolute_error')"
   ]
  },
  {
   "cell_type": "code",
   "execution_count": 8,
   "id": "87ece25c",
   "metadata": {},
   "outputs": [],
   "source": [
    "model = keras.models.load_model('C:/e/CRUPA/save/model_TIMEDIST_Resnet.h5')"
   ]
  },
  {
   "cell_type": "markdown",
   "id": "1f6e6b1e",
   "metadata": {},
   "source": [
    "# PREDICT "
   ]
  },
  {
   "cell_type": "code",
   "execution_count": 10,
   "id": "9e51b0dd",
   "metadata": {},
   "outputs": [
    {
     "name": "stdout",
     "output_type": "stream",
     "text": [
      "110 -true\n",
      "[[29.033297]] - predict\n",
      "110 -true\n",
      "[[34.17439]] - predict\n",
      "110 -true\n",
      "[[32.135273]] - predict\n",
      "110 -true\n",
      "[[33.30315]] - predict\n",
      "110 -true\n",
      "[[49.970165]] - predict\n",
      "110 -true\n",
      "[[44.320965]] - predict\n",
      "110 -true\n",
      "[[54.58458]] - predict\n",
      "110 -true\n",
      "[[61.29937]] - predict\n",
      "110 -true\n",
      "[[69.30725]] - predict\n",
      "110 -true\n",
      "[[64.92128]] - predict\n",
      "110 -true\n",
      "[[83.81005]] - predict\n",
      "110 -true\n",
      "[[81.95427]] - predict\n",
      "130 -true\n",
      "[[110.2072]] - predict\n",
      "130 -true\n",
      "[[98.071]] - predict\n",
      "130 -true\n",
      "[[207.0335]] - predict\n",
      "130 -true\n",
      "[[165.37544]] - predict\n"
     ]
    }
   ],
   "source": [
    "y_pred = []\n",
    "y_true = []\n",
    "for i in range(120,200,5):\n",
    "    \n",
    "    img_sample = images_list[i]\n",
    "    img_sample = np.expand_dims(img_sample, axis=0)\n",
    "    pred = model.predict(img_sample)\n",
    "    y_pred.append(pred)\n",
    "    y_true.append(images_info_df['mass'][i])\n",
    "    print(images_info_df['mass'][i], '-true')\n",
    "    print(pred, '- predict')"
   ]
  },
  {
   "cell_type": "code",
   "execution_count": 11,
   "id": "72a642e6",
   "metadata": {},
   "outputs": [],
   "source": [
    "df = pd.DataFrame({'y_predict':y_pred, 'y_true':y_true})\n",
    "df.to_csv('C:/e/CRUPA/table2.csv')"
   ]
  },
  {
   "cell_type": "code",
   "execution_count": 12,
   "id": "5387b73b",
   "metadata": {},
   "outputs": [],
   "source": [
    "res_df = pd.read_csv('C:/e/CRUPA/table1.csv', sep=',')\n",
    "res_df['y_predict'] = res_df['y_predict'].apply(lambda x: round(float(x.strip('][')), 1))\n",
    "res_df['error'] = round(res_df['y_predict'] - res_df['y_true'], 1)\n",
    "res_df['error_in_%'] = round((res_df['y_predict'] - res_df['y_true']) * 100 / res_df['y_true'], 0)"
   ]
  },
  {
   "cell_type": "code",
   "execution_count": 13,
   "id": "6b51038a",
   "metadata": {},
   "outputs": [
    {
     "data": {
      "text/plain": [
       "0       17.0\n",
       "1       28.0\n",
       "2       26.0\n",
       "3     1004.0\n",
       "4      100.0\n",
       "5      -67.0\n",
       "6       -6.0\n",
       "7      -28.0\n",
       "8       17.0\n",
       "9       14.0\n",
       "10      -4.0\n",
       "11       5.0\n",
       "12       0.0\n",
       "13     -10.0\n",
       "14     -11.0\n",
       "15     -18.0\n",
       "16       6.0\n",
       "17     -25.0\n",
       "18     -42.0\n",
       "19     -23.0\n",
       "20     -33.0\n",
       "21      -9.0\n",
       "22     -15.0\n",
       "23     -32.0\n",
       "24     -36.0\n",
       "25     -31.0\n",
       "26     -23.0\n",
       "27     -32.0\n",
       "28     -24.0\n",
       "29     144.0\n",
       "Name: error_in_%, dtype: float64"
      ]
     },
     "execution_count": 13,
     "metadata": {},
     "output_type": "execute_result"
    }
   ],
   "source": [
    "res_df['error_in_%']"
   ]
  },
  {
   "cell_type": "markdown",
   "id": "890f6714",
   "metadata": {},
   "source": [
    "# MODEL 2"
   ]
  },
  {
   "cell_type": "code",
   "execution_count": 19,
   "id": "42fb1974",
   "metadata": {},
   "outputs": [
    {
     "name": "stdout",
     "output_type": "stream",
     "text": [
      "[100 100 100 100 100 100 100 100 100 100  10  10  10  10  10  10  10  10\n",
      "  10  10 110 110 110 110 110 110 110 110 110 110 130 130 130 130 130 130\n",
      " 130 130 130 130 140 140 140 140 140 140 140 140 140 140 150 150 150 150\n",
      " 150 150 150 150 150 150 160 160 160 160 160 160 160 160 160 160 170 170\n",
      " 170 170 170 170 170 170 170 170 180 180 180 180 180 180 180 180 180 180\n",
      " 190 190 190 190 190 190 190 190 190 190 200 200 200 200 200 200 200 200\n",
      " 200 200  20  20  20  20  20  20  20  20  20  20  30  30  30  30  30  30\n",
      "  30  30  30  30  40  40  40  40  40  40  40  40  40  40  50  50  50  50\n",
      "  50  50  50  50  50  50  60  60  60  60  60  60  60  60  60  60  70  70\n",
      "  70  70  70  70  70  70  70  70  80  80  80  80  80  80  80  80  80  80\n",
      "  90  90  90  90  90  90  90  90  90  90 100 100  10  10 110 110 120 120\n",
      " 130 130 140 140 150 150 160 160 170 170 180 180 190 190 200 200  20  30\n",
      "  30  40  40  50  50  60  60  70  70  80  90  90]\n"
     ]
    }
   ],
   "source": [
    "images_list = []\n",
    "images_batch = []\n",
    "mass_list = []\n",
    "mass_batch = []\n",
    "j = 0\n",
    "img_shape = (224,224)\n",
    "for i, file in enumerate(images_info_df['image_name']):\n",
    "  #print(i,file)\n",
    "  if j < 5:\n",
    "    j += 1\n",
    "    img = cv2.imread(file)\n",
    "    img = cv2.cvtColor(img, cv2.COLOR_BGR2RGB)\n",
    "    img = cv2.resize(img, img_shape)\n",
    "    images_batch.append(img)\n",
    "    mass_batch.append(images_info_df['mass'][i])\n",
    "    \n",
    "  else:\n",
    "    j = 0 \n",
    "    images_list.append(images_batch)\n",
    "    mass_list.append(int(images_info_df['mass'][i])) \n",
    "    images_batch = [] \n",
    "    mass_batch = []\n",
    "\n",
    "images_list = np.array(images_list)\n",
    "mass_list = np.array(mass_list)    \n",
    "\n",
    "print(mass_list)"
   ]
  },
  {
   "cell_type": "code",
   "execution_count": 14,
   "id": "b1a7a466",
   "metadata": {},
   "outputs": [],
   "source": [
    "import keras\n",
    "from keras.layers import Dense, LSTM, \\\n",
    "    Flatten, TimeDistributed, Conv2D, Dropout\n",
    "from keras import Sequential\n",
    "from keras.applications.vgg16 import VGG16\n",
    "\n",
    "vgg = VGG16(\n",
    "    include_top=False,\n",
    "    weights='imagenet',\n",
    "    input_shape=(224, 224, 3)\n",
    ")\n",
    "\n",
    "for layer in vgg.layers[:-4]:\n",
    "    layer.trainable = False\n",
    "\n",
    "model = Sequential()\n",
    "\n",
    "model.add(\n",
    "    TimeDistributed(vgg, input_shape=(5, 224, 224, 3))\n",
    ")\n",
    "\n",
    "model.add(\n",
    "    TimeDistributed(\n",
    "        Flatten()\n",
    "    )\n",
    ")\n",
    "model.add(LSTM(256, activation='relu', return_sequences=False))\n",
    "\n",
    "model.add(Dense(64, activation='relu'))\n",
    "model.add(Dropout(.5))\n",
    "model.add(Dense(1, activation='linear'))\n",
    "model.compile(optimizer = 'adam', loss='mean_absolute_error')"
   ]
  },
  {
   "cell_type": "code",
   "execution_count": 16,
   "id": "c6a78a6b",
   "metadata": {},
   "outputs": [],
   "source": [
    "model = keras.models.load_model('C:/e/CRUPA/main_model/e35_val33.881947.h5')"
   ]
  },
  {
   "cell_type": "code",
   "execution_count": 25,
   "id": "a0ad1700",
   "metadata": {},
   "outputs": [
    {
     "name": "stdout",
     "output_type": "stream",
     "text": [
      "100 -true\n",
      "[[96.75077]] - predict\n",
      "100 -true\n",
      "[[90.840324]] - predict\n",
      "100 -true\n",
      "[[23.746256]] - predict\n",
      "100 -true\n",
      "[[20.972294]] - predict\n",
      "100 -true\n",
      "[[96.38449]] - predict\n",
      "100 -true\n",
      "[[114.46617]] - predict\n",
      "100 -true\n",
      "[[127.2355]] - predict\n",
      "100 -true\n",
      "[[131.53354]] - predict\n",
      "100 -true\n",
      "[[134.4623]] - predict\n",
      "100 -true\n",
      "[[125.623344]] - predict\n",
      "100 -true\n",
      "[[137.4307]] - predict\n",
      "100 -true\n",
      "[[140.13605]] - predict\n",
      "10 -true\n",
      "[[173.78113]] - predict\n",
      "10 -true\n",
      "[[157.32368]] - predict\n",
      "10 -true\n",
      "[[156.44904]] - predict\n",
      "10 -true\n",
      "[[157.05066]] - predict\n",
      "10 -true\n",
      "[[156.9496]] - predict\n",
      "10 -true\n",
      "[[170.66502]] - predict\n",
      "10 -true\n",
      "[[151.21518]] - predict\n",
      "10 -true\n",
      "[[181.04593]] - predict\n"
     ]
    }
   ],
   "source": [
    "y_pred = []\n",
    "y_true = []\n",
    "for i in range(0,100,5):\n",
    "    \n",
    "    img_sample = images_list[i]\n",
    "    img_sample = np.expand_dims(img_sample, axis=0)\n",
    "    pred = model.predict(img_sample)\n",
    "    y_pred.append(pred)\n",
    "    y_true.append(images_info_df['mass'][i])\n",
    "    print(images_info_df['mass'][i], '-true')\n",
    "    print(pred, '- predict')"
   ]
  },
  {
   "cell_type": "code",
   "execution_count": 26,
   "id": "736e7be8",
   "metadata": {},
   "outputs": [],
   "source": [
    "df = pd.DataFrame({'y_predict':y_pred, 'y_true':y_true})\n",
    "df.to_csv('C:/e/CRUPA/table2.csv')"
   ]
  },
  {
   "cell_type": "code",
   "execution_count": 27,
   "id": "d18a5b17",
   "metadata": {},
   "outputs": [],
   "source": [
    "res_df = pd.read_csv('C:/e/CRUPA/table1.csv', sep=',')\n",
    "res_df['y_predict'] = res_df['y_predict'].apply(lambda x: round(float(x.strip('][')), 1))\n",
    "res_df['error'] = round(res_df['y_predict'] - res_df['y_true'], 1)\n",
    "res_df['error_in_%'] = round((res_df['y_predict'] - res_df['y_true']) * 100 / res_df['y_true'], 0)"
   ]
  },
  {
   "cell_type": "code",
   "execution_count": 28,
   "id": "cad686d7",
   "metadata": {},
   "outputs": [
    {
     "data": {
      "text/plain": [
       "0       17.0\n",
       "1       28.0\n",
       "2       26.0\n",
       "3     1004.0\n",
       "4      100.0\n",
       "5      -67.0\n",
       "6       -6.0\n",
       "7      -28.0\n",
       "8       17.0\n",
       "9       14.0\n",
       "10      -4.0\n",
       "11       5.0\n",
       "12       0.0\n",
       "13     -10.0\n",
       "14     -11.0\n",
       "15     -18.0\n",
       "16       6.0\n",
       "17     -25.0\n",
       "18     -42.0\n",
       "19     -23.0\n",
       "20     -33.0\n",
       "21      -9.0\n",
       "22     -15.0\n",
       "23     -32.0\n",
       "24     -36.0\n",
       "25     -31.0\n",
       "26     -23.0\n",
       "27     -32.0\n",
       "28     -24.0\n",
       "29     144.0\n",
       "Name: error_in_%, dtype: float64"
      ]
     },
     "execution_count": 28,
     "metadata": {},
     "output_type": "execute_result"
    }
   ],
   "source": [
    "res_df['error_in_%']"
   ]
  },
  {
   "cell_type": "code",
   "execution_count": null,
   "id": "8b9ce952",
   "metadata": {},
   "outputs": [],
   "source": []
  },
  {
   "cell_type": "code",
   "execution_count": null,
   "id": "831165aa",
   "metadata": {},
   "outputs": [],
   "source": []
  }
 ],
 "metadata": {
  "kernelspec": {
   "display_name": "Python 3 (ipykernel)",
   "language": "python",
   "name": "python3"
  },
  "language_info": {
   "codemirror_mode": {
    "name": "ipython",
    "version": 3
   },
   "file_extension": ".py",
   "mimetype": "text/x-python",
   "name": "python",
   "nbconvert_exporter": "python",
   "pygments_lexer": "ipython3",
   "version": "3.8.8"
  }
 },
 "nbformat": 4,
 "nbformat_minor": 5
}
