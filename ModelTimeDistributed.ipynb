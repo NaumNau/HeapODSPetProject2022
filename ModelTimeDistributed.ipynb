{
 "cells": [
  {
   "cell_type": "code",
   "execution_count": 5,
   "id": "e352cbf0",
   "metadata": {},
   "outputs": [],
   "source": [
    "import os\n",
    "import matplotlib.pyplot as plt\n",
    "%matplotlib inline\n",
    "from tensorflow.keras.models import Model\n",
    "import pandas as pd\n",
    "import numpy as np\n",
    "import cv2\n",
    "import keras\n",
    "from keras.layers import Conv2D, MaxPooling2D, BatchNormalization, GlobalMaxPooling2D, GlobalAveragePooling2D\n",
    "from keras.layers import Activation, Dropout, Flatten, Dense\n",
    "from glob import glob\n",
    "from keras.callbacks import EarlyStopping, ModelCheckpoint, ReduceLROnPlateau, TensorBoard\n",
    "os.environ[\"CUDA_VISIBLE_DEVICES\"] = \"1\"\n",
    "\n",
    "from keras.layers import Input, Conv2D, MaxPooling2D, UpSampling2D, concatenate, Conv2DTranspose, BatchNormalization, Dropout, Lambda\n",
    "import tensorflow as tf\n",
    "from keras import Sequential\n",
    "\n",
    "from keras.layers import Dense, LSTM, \\\n",
    "    Flatten, TimeDistributed, Conv2D, Dropout"
   ]
  },
  {
   "cell_type": "code",
   "execution_count": 6,
   "id": "64cf8ed7",
   "metadata": {},
   "outputs": [],
   "source": [
    "main_dir = 'C:/e/CRUPA/MISHA_heap_v2/'\n",
    "main_dir_Anton = 'C:/e/CRUPA/ANTON_heap/'"
   ]
  },
  {
   "cell_type": "markdown",
   "id": "e449667b",
   "metadata": {},
   "source": [
    "# DATA GENERATOR"
   ]
  },
  {
   "cell_type": "code",
   "execution_count": 7,
   "id": "89e46e57",
   "metadata": {},
   "outputs": [],
   "source": [
    "\n",
    "img_shape = (256, 256)\n",
    "images_mish = sorted(os.listdir(main_dir))\n",
    "images_anton = sorted(os.listdir(main_dir_Anton))\n",
    "#images_misha = os.listdir(main_dir_Mish)\n",
    "images = images_mish + images_anton \n",
    "\n",
    "images_info_df = pd.DataFrame(columns=['image_name', 'mass', 'food_type'])\n",
    "for ind, img in enumerate(images):\n",
    "    items = img.split('_')\n",
    "    file = img.split('_')[2]\n",
    "    #print(file[0:2])\n",
    "    if file[0:2] == 'mv':\n",
    "      images_info_df.loc[ind] = [main_dir + img, int(items[0]), items[1]]\n",
    "    elif file[0:2] == 'av':\n",
    "      images_info_df.loc[ind] = [main_dir_Anton + img, int(items[0]), items[1]]\n",
    "    \n",
    "#images_info_df['image_name'] = sorted(images_info_df['image_name'])\n",
    "mass_list = list(images_info_df['mass'])  \n",
    "mass_list = np.array(mass_list)"
   ]
  },
  {
   "cell_type": "code",
   "execution_count": 8,
   "id": "40586773",
   "metadata": {},
   "outputs": [
    {
     "name": "stdout",
     "output_type": "stream",
     "text": [
      "[100 100 100 100 100 100 100 100 100 100  10  10  10  10  10  10  10  10\n",
      "  10  10 110 110 110 110 110 110 110 110 110 110 130 130 130 130 130 130\n",
      " 130 130 130 130 140 140 140 140 140 140 140 140 140 140 150 150 150 150\n",
      " 150 150 150 150 150 150 160 160 160 160 160 160 160 160 160 160 170 170\n",
      " 170 170 170 170 170 170 170 170 180 180 180 180 180 180 180 180 180 180\n",
      " 190 190 190 190 190 190 190 190 190 190 200 200 200 200 200 200 200 200\n",
      " 200 200  20  20  20  20  20  20  20  20  20  20  30  30  30  30  30  30\n",
      "  30  30  30  30  40  40  40  40  40  40  40  40  40  40  50  50  50  50\n",
      "  50  50  50  50  50  50  60  60  60  60  60  60  60  60  60  60  70  70\n",
      "  70  70  70  70  70  70  70  70  80  80  80  80  80  80  80  80  80  80\n",
      "  90  90  90  90  90  90  90  90  90  90 100 100  10  10 110 110 120 120\n",
      " 130 130 140 140 150 150 160 160 170 170 180 180 190 190 200 200  20  30\n",
      "  30  40  40  50  50  60  60  70  70  80  90  90]\n"
     ]
    }
   ],
   "source": [
    "images_list = []\n",
    "images_batch = []\n",
    "mass_list = []\n",
    "mass_batch = []\n",
    "j = 0\n",
    "for i, file in enumerate(images_info_df['image_name']):\n",
    "  #print(i,file)\n",
    "  if j < 5:\n",
    "    j += 1\n",
    "    img = cv2.imread(file)\n",
    "    img = cv2.cvtColor(img, cv2.COLOR_BGR2RGB)\n",
    "    img = cv2.resize(img, img_shape)\n",
    "    images_batch.append(img)\n",
    "    mass_batch.append(images_info_df['mass'][i])\n",
    "    \n",
    "  else:\n",
    "    j = 0 \n",
    "    images_list.append(images_batch)\n",
    "    mass_list.append(int(images_info_df['mass'][i])) \n",
    "    images_batch = [] \n",
    "    mass_batch = []\n",
    "\n",
    "images_list = np.array(images_list)\n",
    "mass_list = np.array(mass_list)    \n",
    "\n",
    "print(mass_list)"
   ]
  },
  {
   "cell_type": "code",
   "execution_count": 9,
   "id": "342d4ae9",
   "metadata": {},
   "outputs": [
    {
     "name": "stdout",
     "output_type": "stream",
     "text": [
      "228\n"
     ]
    }
   ],
   "source": [
    "print(len(mass_list))"
   ]
  },
  {
   "cell_type": "markdown",
   "id": "7ab98c45",
   "metadata": {},
   "source": [
    "# MODEL"
   ]
  },
  {
   "cell_type": "code",
   "execution_count": 10,
   "id": "67340aee",
   "metadata": {},
   "outputs": [],
   "source": [
    "import keras\n",
    "from keras.layers import Dense, LSTM, \\\n",
    "    Flatten, TimeDistributed, Conv2D, Dropout\n",
    "from keras import Sequential\n",
    "from keras.applications.vgg16 import VGG16\n",
    "from tensorflow.keras.applications import MobileNet,ResNet50\n",
    "from tensorflow.keras.applications.resnet50 import preprocess_input\n",
    "# create a VGG16 \"model\", we will use\n",
    "# image with shape (224, 224, 3)\n",
    "base_model=ResNet50( weights='imagenet',include_top=False,input_shape=(256,256,3))\n",
    "# vgg = VGG16(\n",
    "#     include_top=False,\n",
    "#     weights='imagenet',\n",
    "#     input_shape=(224, 224, 3)\n",
    "# )\n",
    "\n",
    "for layer in base_model.layers[:-4]:\n",
    "    layer.trainable = False\n",
    "\n",
    "model = Sequential()\n",
    "\n",
    "model.add(\n",
    "    TimeDistributed(base_model, input_shape=(5, 256, 256, 3))\n",
    ")\n",
    "\n",
    "model.add(\n",
    "    TimeDistributed(\n",
    "        #Flatten()\n",
    "        GlobalAveragePooling2D()\n",
    "    )\n",
    ")\n",
    "model.add(LSTM(256, activation='relu', return_sequences=False))\n",
    "\n",
    "model.add(Dense(64, activation='relu'))\n",
    "model.add(Dropout(.5))\n",
    "model.add(Dense(1, activation='linear'))\n",
    "model.compile(optimizer = 'adam', loss='mean_absolute_error')"
   ]
  },
  {
   "cell_type": "code",
   "execution_count": null,
   "id": "2fe7b496",
   "metadata": {},
   "outputs": [],
   "source": []
  },
  {
   "cell_type": "code",
   "execution_count": 17,
   "id": "309fc12e",
   "metadata": {},
   "outputs": [],
   "source": [
    "model = keras.models.load_model('C:/e/CRUPA/main_model/model_TIMEDIST_Resnet.h5')"
   ]
  },
  {
   "cell_type": "markdown",
   "id": "6fee6113",
   "metadata": {},
   "source": [
    "# PREDICT "
   ]
  },
  {
   "cell_type": "code",
   "execution_count": 23,
   "id": "1ab52c6d",
   "metadata": {},
   "outputs": [
    {
     "name": "stdout",
     "output_type": "stream",
     "text": [
      "110 -true\n",
      "[[55.185642]] - predict\n",
      "110 -true\n",
      "[[51.60836]] - predict\n",
      "110 -true\n",
      "[[59.33707]] - predict\n",
      "110 -true\n",
      "[[56.850883]] - predict\n",
      "110 -true\n",
      "[[69.82325]] - predict\n",
      "110 -true\n",
      "[[72.218636]] - predict\n",
      "110 -true\n",
      "[[67.001915]] - predict\n",
      "110 -true\n",
      "[[88.83924]] - predict\n",
      "110 -true\n",
      "[[86.15855]] - predict\n",
      "110 -true\n",
      "[[82.86712]] - predict\n",
      "110 -true\n",
      "[[91.49111]] - predict\n",
      "110 -true\n",
      "[[88.86913]] - predict\n",
      "110 -true\n",
      "[[97.54469]] - predict\n",
      "110 -true\n",
      "[[102.12397]] - predict\n",
      "130 -true\n",
      "[[126.31305]] - predict\n",
      "130 -true\n",
      "[[109.33183]] - predict\n",
      "130 -true\n",
      "[[115.46587]] - predict\n",
      "130 -true\n",
      "[[185.68062]] - predict\n",
      "130 -true\n",
      "[[192.45717]] - predict\n",
      "130 -true\n",
      "[[152.58195]] - predict\n"
     ]
    }
   ],
   "source": [
    "y_pred = []\n",
    "y_true = []\n",
    "for i in range(140,200,3):\n",
    "    \n",
    "    img_sample = images_list[i]\n",
    "    img_sample = np.expand_dims(img_sample, axis=0)\n",
    "    pred = model.predict(img_sample)\n",
    "    y_pred.append(pred)\n",
    "    y_true.append(images_info_df['mass'][i])\n",
    "    print(images_info_df['mass'][i], '-true')\n",
    "    print(pred, '- predict')"
   ]
  },
  {
   "cell_type": "code",
   "execution_count": 24,
   "id": "782cf682",
   "metadata": {},
   "outputs": [],
   "source": [
    "df = pd.DataFrame({'y_predict':y_pred, 'y_true':y_true})\n",
    "df.to_csv('C:/e/CRUPA/table3.csv')"
   ]
  },
  {
   "cell_type": "code",
   "execution_count": 25,
   "id": "37b75605",
   "metadata": {},
   "outputs": [],
   "source": [
    "res_df = pd.read_csv('C:/e/CRUPA/table3.csv', sep=',')\n",
    "res_df['y_predict'] = res_df['y_predict'].apply(lambda x: round(float(x.strip('][')), 1))\n",
    "res_df['error'] = round(res_df['y_predict'] - res_df['y_true'], 1)\n",
    "res_df['error_in_%'] = round((res_df['y_predict'] - res_df['y_true']) * 100 / res_df['y_true'], 0)"
   ]
  },
  {
   "cell_type": "code",
   "execution_count": 26,
   "id": "28676d12",
   "metadata": {},
   "outputs": [
    {
     "data": {
      "text/plain": [
       "0    -50.0\n",
       "1    -53.0\n",
       "2    -46.0\n",
       "3    -48.0\n",
       "4    -37.0\n",
       "5    -34.0\n",
       "6    -39.0\n",
       "7    -19.0\n",
       "8    -22.0\n",
       "9    -25.0\n",
       "10   -17.0\n",
       "11   -19.0\n",
       "12   -11.0\n",
       "13    -7.0\n",
       "14    -3.0\n",
       "15   -16.0\n",
       "16   -11.0\n",
       "17    43.0\n",
       "18    48.0\n",
       "19    17.0\n",
       "Name: error_in_%, dtype: float64"
      ]
     },
     "execution_count": 26,
     "metadata": {},
     "output_type": "execute_result"
    }
   ],
   "source": [
    "res_df['error_in_%']"
   ]
  },
  {
   "cell_type": "markdown",
   "id": "d4ec0ace",
   "metadata": {},
   "source": [
    "# MODEL 2"
   ]
  },
  {
   "cell_type": "code",
   "execution_count": null,
   "id": "079d1c55",
   "metadata": {},
   "outputs": [],
   "source": [
    "images_list = []\n",
    "images_batch = []\n",
    "mass_list = []\n",
    "mass_batch = []\n",
    "j = 0\n",
    "img_shape = (224,224)\n",
    "for i, file in enumerate(images_info_df['image_name']):\n",
    "  #print(i,file)\n",
    "  if j < 5:\n",
    "    j += 1\n",
    "    img = cv2.imread(file)\n",
    "    img = cv2.cvtColor(img, cv2.COLOR_BGR2RGB)\n",
    "    img = cv2.resize(img, img_shape)\n",
    "    images_batch.append(img)\n",
    "    mass_batch.append(images_info_df['mass'][i])\n",
    "    \n",
    "  else:\n",
    "    j = 0 \n",
    "    images_list.append(images_batch)\n",
    "    mass_list.append(int(images_info_df['mass'][i])) \n",
    "    images_batch = [] \n",
    "    mass_batch = []\n",
    "\n",
    "images_list = np.array(images_list)\n",
    "mass_list = np.array(mass_list)    \n",
    "\n",
    "print(mass_list)"
   ]
  },
  {
   "cell_type": "code",
   "execution_count": null,
   "id": "8ac2ed94",
   "metadata": {},
   "outputs": [],
   "source": [
    "import keras\n",
    "from keras.layers import Dense, LSTM, \\\n",
    "    Flatten, TimeDistributed, Conv2D, Dropout\n",
    "from keras import Sequential\n",
    "from keras.applications.vgg16 import VGG16\n",
    "\n",
    "vgg = VGG16(\n",
    "    include_top=False,\n",
    "    weights='imagenet',\n",
    "    input_shape=(224, 224, 3)\n",
    ")\n",
    "\n",
    "for layer in vgg.layers[:-4]:\n",
    "    layer.trainable = False\n",
    "\n",
    "model = Sequential()\n",
    "\n",
    "model.add(\n",
    "    TimeDistributed(vgg, input_shape=(5, 224, 224, 3))\n",
    ")\n",
    "\n",
    "model.add(\n",
    "    TimeDistributed(\n",
    "        Flatten()\n",
    "    )\n",
    ")\n",
    "model.add(LSTM(256, activation='relu', return_sequences=False))\n",
    "\n",
    "model.add(Dense(64, activation='relu'))\n",
    "model.add(Dropout(.5))\n",
    "model.add(Dense(1, activation='linear'))\n",
    "model.compile(optimizer = 'adam', loss='mean_absolute_error')"
   ]
  },
  {
   "cell_type": "code",
   "execution_count": null,
   "id": "d7eb82d1",
   "metadata": {},
   "outputs": [],
   "source": [
    "model = keras.models.load_model('C:/e/CRUPA/main_model/e35_val33.881947.h5')"
   ]
  },
  {
   "cell_type": "code",
   "execution_count": null,
   "id": "efa87a41",
   "metadata": {},
   "outputs": [],
   "source": [
    "y_pred = []\n",
    "y_true = []\n",
    "for i in range(0,100,5):\n",
    "    \n",
    "    img_sample = images_list[i]\n",
    "    img_sample = np.expand_dims(img_sample, axis=0)\n",
    "    pred = model.predict(img_sample)\n",
    "    y_pred.append(pred)\n",
    "    y_true.append(images_info_df['mass'][i])\n",
    "    print(images_info_df['mass'][i], '-true')\n",
    "    print(pred, '- predict')"
   ]
  },
  {
   "cell_type": "code",
   "execution_count": null,
   "id": "01f4ccbe",
   "metadata": {},
   "outputs": [],
   "source": [
    "df = pd.DataFrame({'y_predict':y_pred, 'y_true':y_true})\n",
    "df.to_csv('C:/e/CRUPA/table2.csv')"
   ]
  },
  {
   "cell_type": "code",
   "execution_count": 3,
   "id": "c163e864",
   "metadata": {},
   "outputs": [],
   "source": [
    "res_df = pd.read_csv('C:/e/CRUPA/table2.csv', sep=',')\n",
    "res_df['y_predict'] = res_df['y_predict'].apply(lambda x: round(float(x.strip('][')), 1))\n",
    "res_df['error'] = round(res_df['y_predict'] - res_df['y_true'], 1)\n",
    "res_df['error_in_%'] = round((res_df['y_predict'] - res_df['y_true']) * 100 / res_df['y_true'], 0)"
   ]
  },
  {
   "cell_type": "code",
   "execution_count": 4,
   "id": "a4530b4b",
   "metadata": {},
   "outputs": [
    {
     "data": {
      "text/plain": [
       "0       -3.0\n",
       "1       -9.0\n",
       "2      -76.0\n",
       "3      -79.0\n",
       "4       -4.0\n",
       "5       14.0\n",
       "6       27.0\n",
       "7       32.0\n",
       "8       34.0\n",
       "9       26.0\n",
       "10      37.0\n",
       "11      40.0\n",
       "12    1638.0\n",
       "13    1473.0\n",
       "14    1464.0\n",
       "15    1471.0\n",
       "16    1469.0\n",
       "17    1607.0\n",
       "18    1412.0\n",
       "19    1710.0\n",
       "Name: error_in_%, dtype: float64"
      ]
     },
     "execution_count": 4,
     "metadata": {},
     "output_type": "execute_result"
    }
   ],
   "source": [
    "res_df['error_in_%']"
   ]
  }
 ],
 "metadata": {
  "kernelspec": {
   "display_name": "Python 3 (ipykernel)",
   "language": "python",
   "name": "python3"
  },
  "language_info": {
   "codemirror_mode": {
    "name": "ipython",
    "version": 3
   },
   "file_extension": ".py",
   "mimetype": "text/x-python",
   "name": "python",
   "nbconvert_exporter": "python",
   "pygments_lexer": "ipython3",
   "version": "3.8.8"
  }
 },
 "nbformat": 4,
 "nbformat_minor": 5
}
